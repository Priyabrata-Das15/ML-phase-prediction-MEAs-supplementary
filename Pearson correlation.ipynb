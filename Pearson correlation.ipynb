{
 "cells": [
  {
   "cell_type": "code",
   "execution_count": null,
   "id": "93fbf5e3-4172-4a5a-8555-e432598263cc",
   "metadata": {},
   "outputs": [],
   "source": [
    "import numpy as np\n",
    "import pandas as pd\n",
    "import matplotlib.pyplot as plt\n",
    "\n",
    "MEAO = pd.read_excel('G:\\Priyabrata\\ML\\Material data repository with notation.xlsx')\n",
    "print(MEAO)"
   ]
  },
  {
   "cell_type": "code",
   "execution_count": null,
   "id": "5cb18767-cc1b-4c33-8951-d13d2eceac54",
   "metadata": {},
   "outputs": [],
   "source": [
    "INPUT = MEAO.iloc[:,2:11]  #all INPUT (Variables)\n",
    "INPUT\n",
    "TARGET = MEAO.iloc[:,20]   #all PHASES SS,SS+IM,AM\n",
    "#TARGET = MEAO.iloc[:,19]\n",
    "TARGET\n",
    "Y = MEAO.iloc[:,22] #coded phases. 0:SS, 1:SS+IM, 2:AM\n",
    "#Y = MEAO.iloc[:,23] #coded phases. 0:MSS, 1:SSS, 2:SS+IM, 3:AM\n",
    "\n",
    "INPUT"
   ]
  },
  {
   "cell_type": "code",
   "execution_count": null,
   "id": "8d9cb02d-51f8-4353-9872-872e153b16f5",
   "metadata": {},
   "outputs": [],
   "source": [
    "INPUT.rename(columns = {'Mixing entropy (∆Smix)' : '$\\Delta$$S_{mix}$', 'Mixing enthalpy (∆Hmix)' : '$\\Delta$$H_{mix}$','Pauling electronegativity (Δχ)' : '$\\Delta$$\\chi$','Atomic size mismatch (δ)' : '$\\delta$','Molar volume dispersity (Γ)' : '$\\Gamma$'}, inplace = True)\n",
    "INPUT"
   ]
  },
  {
   "cell_type": "code",
   "execution_count": null,
   "id": "56196764-b2e2-4505-b676-f4bb9472f41d",
   "metadata": {},
   "outputs": [],
   "source": [
    "#USED in paper\n",
    "import seaborn as sns\n",
    "plt.figure(figsize=(10,10),dpi=300)\n",
    "s_INPUT = INPUT.drop(['VEC'],axis=1)\n",
    "#s_INPUT = INPUT \n",
    "corr_INPUT = pd.DataFrame.corr(s_INPUT)\n",
    "g=sns.heatmap(corr_INPUT,annot=True,vmin=-1, vmax=1,cmap=\"PiYG\",linewidths=1.5,annot_kws={\"size\":16,\"weight\":'extra bold'},fmt=\".2f\")\n",
    "sns.set(font_scale=1.5)\n",
    "#plt.title('Pearson correlation coeffcients', fontsize = 30,) # title with fontsize 20\n",
    "g.set_xticklabels(g.get_xmajorticklabels(), fontsize=18,weight='bold')\n",
    "g.set_yticklabels(g.get_ymajorticklabels(), fontsize=18,weight='bold')\n",
    "plt.rcParams[\"font.weight\"]=\"bold\"  \n",
    "plt.xticks(rotation=360)\n",
    "plt.yticks(rotation=360)\n",
    "plt.show()"
   ]
  },
  {
   "cell_type": "code",
   "execution_count": null,
   "id": "953d5133-75b9-415b-8d00-67fc44638bb4",
   "metadata": {},
   "outputs": [],
   "source": [
    "selected_INPUT = INPUT.drop(INPUT.columns[[0, 3,6,7,8]],axis=1)   #VEC is on 6th column\n",
    "selected_INPUT"
   ]
  },
  {
   "cell_type": "code",
   "execution_count": null,
   "id": "c9545f1a-d5f2-4aa2-b7c4-619cb8aeaa68",
   "metadata": {},
   "outputs": [],
   "source": [
    "import seaborn as sns\n",
    "plt.figure(figsize=(10,10),dpi=300)\n",
    "corr_INPUTs = pd.DataFrame.corr(selected_INPUT)\n",
    "sns.heatmap(corr_INPUTs,annot=True,vmin=-1, vmax=1,cmap=\"PiYG\",linewidths=1.5,annot_kws={\"size\":18,\"weight\":'extra bold'},fmt=\".2f\")\n",
    "sns.set(font_scale=1.5)\n",
    "#plt.title('Pearson correlation coeffcients', fontsize = 30) # title with fontsize 20\n",
    "\n",
    "#g.set_xticklabels(g.get_xmajorticklabels(), fontsize=18,weight='bold')\n",
    "#g.set_yticklabels(g.get_ymajorticklabels(), fontsize=18,weight='bold')\n",
    "\n",
    "plt.rcParams[\"font.weight\"]=\"bold\"  \n",
    "#plt.rcParams[\"font.size\"] = 20\n",
    "plt.xticks(rotation=360)\n",
    "plt.yticks(rotation=360)\n",
    "plt.show()"
   ]
  }
 ],
 "metadata": {
  "kernelspec": {
   "display_name": "Python 3 (ipykernel)",
   "language": "python",
   "name": "python3"
  },
  "language_info": {
   "codemirror_mode": {
    "name": "ipython",
    "version": 3
   },
   "file_extension": ".py",
   "mimetype": "text/x-python",
   "name": "python",
   "nbconvert_exporter": "python",
   "pygments_lexer": "ipython3",
   "version": "3.12.7"
  }
 },
 "nbformat": 4,
 "nbformat_minor": 5
}
