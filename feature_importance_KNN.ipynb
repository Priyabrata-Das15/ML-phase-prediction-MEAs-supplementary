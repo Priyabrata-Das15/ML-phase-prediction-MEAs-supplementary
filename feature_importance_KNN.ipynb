{
 "cells": [
  {
   "cell_type": "code",
   "execution_count": 1,
   "metadata": {},
   "outputs": [
    {
     "data": {
      "text/html": [
       "<div>\n",
       "<style scoped>\n",
       "    .dataframe tbody tr th:only-of-type {\n",
       "        vertical-align: middle;\n",
       "    }\n",
       "\n",
       "    .dataframe tbody tr th {\n",
       "        vertical-align: top;\n",
       "    }\n",
       "\n",
       "    .dataframe thead th {\n",
       "        text-align: right;\n",
       "    }\n",
       "</style>\n",
       "<table border=\"1\" class=\"dataframe\">\n",
       "  <thead>\n",
       "    <tr style=\"text-align: right;\">\n",
       "      <th></th>\n",
       "      <th>Ω</th>\n",
       "      <th>Atomic size mismatch</th>\n",
       "      <th>Λ</th>\n",
       "    </tr>\n",
       "  </thead>\n",
       "  <tbody>\n",
       "    <tr>\n",
       "      <th>0</th>\n",
       "      <td>-0.631404</td>\n",
       "      <td>0.027946</td>\n",
       "      <td>-0.209450</td>\n",
       "    </tr>\n",
       "    <tr>\n",
       "      <th>1</th>\n",
       "      <td>-0.618275</td>\n",
       "      <td>-0.029515</td>\n",
       "      <td>-0.206598</td>\n",
       "    </tr>\n",
       "    <tr>\n",
       "      <th>2</th>\n",
       "      <td>-0.584828</td>\n",
       "      <td>-0.102026</td>\n",
       "      <td>-0.203809</td>\n",
       "    </tr>\n",
       "    <tr>\n",
       "      <th>3</th>\n",
       "      <td>-0.549350</td>\n",
       "      <td>-0.195605</td>\n",
       "      <td>-0.201020</td>\n",
       "    </tr>\n",
       "    <tr>\n",
       "      <th>4</th>\n",
       "      <td>-0.508245</td>\n",
       "      <td>-0.314359</td>\n",
       "      <td>-0.197724</td>\n",
       "    </tr>\n",
       "    <tr>\n",
       "      <th>...</th>\n",
       "      <td>...</td>\n",
       "      <td>...</td>\n",
       "      <td>...</td>\n",
       "    </tr>\n",
       "    <tr>\n",
       "      <th>241</th>\n",
       "      <td>-0.336948</td>\n",
       "      <td>-0.190571</td>\n",
       "      <td>-0.189724</td>\n",
       "    </tr>\n",
       "    <tr>\n",
       "      <th>242</th>\n",
       "      <td>-0.333822</td>\n",
       "      <td>-0.138336</td>\n",
       "      <td>-0.193755</td>\n",
       "    </tr>\n",
       "    <tr>\n",
       "      <th>243</th>\n",
       "      <td>-0.332368</td>\n",
       "      <td>-0.089138</td>\n",
       "      <td>-0.197356</td>\n",
       "    </tr>\n",
       "    <tr>\n",
       "      <th>244</th>\n",
       "      <td>-0.440570</td>\n",
       "      <td>-0.993250</td>\n",
       "      <td>0.104887</td>\n",
       "    </tr>\n",
       "    <tr>\n",
       "      <th>245</th>\n",
       "      <td>-0.579046</td>\n",
       "      <td>-0.084240</td>\n",
       "      <td>-0.042159</td>\n",
       "    </tr>\n",
       "  </tbody>\n",
       "</table>\n",
       "<p>246 rows × 3 columns</p>\n",
       "</div>"
      ],
      "text/plain": [
       "            Ω  Atomic size mismatch         Λ\n",
       "0   -0.631404              0.027946 -0.209450\n",
       "1   -0.618275             -0.029515 -0.206598\n",
       "2   -0.584828             -0.102026 -0.203809\n",
       "3   -0.549350             -0.195605 -0.201020\n",
       "4   -0.508245             -0.314359 -0.197724\n",
       "..        ...                   ...       ...\n",
       "241 -0.336948             -0.190571 -0.189724\n",
       "242 -0.333822             -0.138336 -0.193755\n",
       "243 -0.332368             -0.089138 -0.197356\n",
       "244 -0.440570             -0.993250  0.104887\n",
       "245 -0.579046             -0.084240 -0.042159\n",
       "\n",
       "[246 rows x 3 columns]"
      ]
     },
     "execution_count": 1,
     "metadata": {},
     "output_type": "execute_result"
    }
   ],
   "source": [
    "import numpy as np\n",
    "import pandas as pd\n",
    "import matplotlib.pyplot as plt\n",
    "\n",
    "MEAO = pd.read_excel('G:\\Priyabrata\\ML\\Material data repository.xlsx')\n",
    "INPUT=MEAO.iloc[:,2:11]  #all INPUT (Variables)\n",
    "TARGET=MEAO.iloc[:,20]   #all PHASES SS,SS+IM,AM\n",
    "#TARGET = MEAO.iloc[:,19]\n",
    "\n",
    "Y=MEAO.iloc[:,22] #coded phases. 0:SS, 1:SS+IM, 2:AM\n",
    "#Y = MEAO.iloc[:,23] #coded phases. 0:MSS, 1:SSS, 2:SS+IM, 3:AM\n",
    "\n",
    "#drop mixing enthalpy\n",
    "selected_INPUT1 = INPUT.drop(['Mixing entropy','Mixing enthalpy','γ','VEC','Pauling electronegativity','Molar volume dispersity'],axis=1)\n",
    "selected_INPUT1\n",
    "\n",
    "normalized_INPUT1=(selected_INPUT1-selected_INPUT1.mean())/selected_INPUT1.std()\n",
    "normalized_INPUT1"
   ]
  },
  {
   "cell_type": "code",
   "execution_count": 2,
   "metadata": {},
   "outputs": [
    {
     "name": "stdout",
     "output_type": "stream",
     "text": [
      "f1 macro: 0.850 (0.049)\n",
      "\n",
      "Maximum f1 score:  0.9585858585858587\n",
      "\n",
      "Minimum f1 score:  0.7406896551724138\n"
     ]
    },
    {
     "data": {
      "image/png": "[encoded data removed]",
      "text/plain": [
       "<Figure size 432x288 with 1 Axes>"
      ]
     },
     "metadata": {
      "needs_background": "light"
     },
     "output_type": "display_data"
    }
   ],
   "source": [
    "from sklearn import metrics\n",
    "from sklearn.neighbors import KNeighborsClassifier\n",
    "from sklearn.model_selection import RepeatedStratifiedKFold\n",
    "from numpy import mean\n",
    "from numpy import std\n",
    "from sklearn.model_selection import cross_val_score\n",
    "\n",
    "nskf = RepeatedStratifiedKFold(n_splits=5, n_repeats=10, random_state=1)\n",
    "model = KNeighborsClassifier(metric='minkowski',metric_params=None, n_jobs=-1, n_neighbors=7, p=10,weights='uniform')\n",
    "scores = cross_val_score(model, normalized_INPUT1, Y, scoring='f1_macro', cv=nskf, n_jobs=-1)\n",
    "scores\n",
    "# report performance\n",
    "print('f1 macro: %.3f (%.3f)' % (mean(scores), std(scores)))\n",
    "print('\\nMaximum f1 score: ', max(scores))\n",
    "print('\\nMinimum f1 score: ', min(scores))\n",
    "\n",
    "from sklearn.model_selection import learning_curve\n",
    "train_sizes, train_scores, valid_scores = learning_curve(model, normalized_INPUT1, Y, train_sizes=[10, 30, 50, 70,90, 110,130,150,170,188], cv=nskf,scoring='f1_macro')\n",
    "train_no=[10, 30, 50, 70,90, 110,130,150,170,188]\n",
    "\n",
    "\n",
    "A=np.mean(train_scores, axis = 1)\n",
    "B=np.mean(valid_scores, axis = 1)\n",
    "\n",
    "plt.plot(train_no, A,label = \"Training Score\", color = 'b')\n",
    "plt.plot(train_no, B,label = \"Cross Validation Score\", color = 'g')\n",
    "plt.title(\"learning curve of knn\")\n",
    "plt.xlabel(\"Number of training example\")\n",
    "plt.ylabel(\"f1 score\")\n",
    "plt.tight_layout()\n",
    "plt.legend(loc = 'best')\n",
    "plt.show()\n"
   ]
  },
  {
   "cell_type": "code",
   "execution_count": 3,
   "metadata": {},
   "outputs": [
    {
     "name": "stdout",
     "output_type": "stream",
     "text": [
      "f1 macro: 0.730 (0.056)\n",
      "\n",
      "Maximum f1 score:  0.8490507314036725\n",
      "\n",
      "Minimum f1 score:  0.5584185929013515\n"
     ]
    },
    {
     "data": {
      "image/png": "[encoded data removed]",
      "text/plain": [
       "<Figure size 432x288 with 1 Axes>"
      ]
     },
     "metadata": {
      "needs_background": "light"
     },
     "output_type": "display_data"
    }
   ],
   "source": [
    "#drop Atomic size mismatch\n",
    "selected_INPUT2 = INPUT.drop(['Mixing entropy','Atomic size mismatch','γ','VEC','Pauling electronegativity','Molar volume dispersity'],axis=1)\n",
    "selected_INPUT2\n",
    "\n",
    "normalized_INPUT2=(selected_INPUT2-selected_INPUT2.mean())/selected_INPUT2.std()\n",
    "normalized_INPUT2\n",
    "\n",
    "from sklearn import metrics\n",
    "from sklearn.neighbors import KNeighborsClassifier\n",
    "from sklearn.model_selection import RepeatedStratifiedKFold\n",
    "from numpy import mean\n",
    "from numpy import std\n",
    "from sklearn.model_selection import cross_val_score\n",
    "\n",
    "nskf = RepeatedStratifiedKFold(n_splits=5, n_repeats=10, random_state=1)\n",
    "model = KNeighborsClassifier(metric='minkowski',metric_params=None, n_jobs=-1, n_neighbors=7, p=10,weights='uniform')\n",
    "scores = cross_val_score(model, normalized_INPUT2, Y, scoring='f1_macro', cv=nskf, n_jobs=-1)\n",
    "scores\n",
    "# report performance\n",
    "print('f1 macro: %.3f (%.3f)' % (mean(scores), std(scores)))\n",
    "print('\\nMaximum f1 score: ', max(scores))\n",
    "print('\\nMinimum f1 score: ', min(scores))\n",
    "\n",
    "\n",
    "from sklearn.model_selection import learning_curve\n",
    "train_sizes, train_scores, valid_scores = learning_curve(model, normalized_INPUT2, Y, train_sizes=[10, 30, 50, 70,90, 110,130,150,170,188], cv=nskf,scoring='f1_macro')\n",
    "train_no=[10, 30, 50, 70,90, 110,130,150,170,188]\n",
    "\n",
    "\n",
    "A=np.mean(train_scores, axis = 1)\n",
    "B=np.mean(valid_scores, axis = 1)\n",
    "\n",
    "plt.plot(train_no, A,label = \"Training Score\", color = 'b')\n",
    "plt.plot(train_no, B,label = \"Cross Validation Score\", color = 'g')\n",
    "plt.title(\"learning curve of knn\")\n",
    "plt.xlabel(\"Number of training example\")\n",
    "plt.ylabel(\"Accuracy\")\n",
    "plt.tight_layout()\n",
    "plt.legend(loc = 'best')\n",
    "plt.show()\n"
   ]
  },
  {
   "cell_type": "code",
   "execution_count": 19,
   "metadata": {},
   "outputs": [
    {
     "name": "stdout",
     "output_type": "stream",
     "text": [
      "f1 macro: 0.876 (0.049)\n",
      "\n",
      "Maximum f1 score:  0.9769916594765603\n",
      "\n",
      "Minimum f1 score:  0.775\n"
     ]
    },
    {
     "data": {
      "image/png": "[encoded data removed]",
      "text/plain": [
       "<Figure size 432x288 with 1 Axes>"
      ]
     },
     "metadata": {
      "needs_background": "light"
     },
     "output_type": "display_data"
    }
   ],
   "source": [
    "#drop Λ\n",
    "selected_INPUT3 = INPUT.drop(['Mixing entropy','Λ','γ','VEC','Pauling electronegativity','Molar volume dispersity'],axis=1)\n",
    "selected_INPUT3\n",
    "\n",
    "normalized_INPUT3=(selected_INPUT3-selected_INPUT3.mean())/selected_INPUT3.std()\n",
    "normalized_INPUT3\n",
    "\n",
    "from sklearn import metrics\n",
    "from sklearn.neighbors import KNeighborsClassifier\n",
    "from sklearn.model_selection import RepeatedStratifiedKFold\n",
    "from numpy import mean\n",
    "from numpy import std\n",
    "from sklearn.model_selection import cross_val_score\n",
    "\n",
    "nskf = RepeatedStratifiedKFold(n_splits=5, n_repeats=10, random_state=1)\n",
    "model = KNeighborsClassifier(metric='minkowski',metric_params=None, n_jobs=-1, n_neighbors=7, p=10,weights='uniform')\n",
    "scores = cross_val_score(model, normalized_INPUT3, Y, scoring='f1_macro', cv=nskf, n_jobs=-1)\n",
    "scores\n",
    "# report performance\n",
    "print('f1 macro: %.3f (%.3f)' % (mean(scores), std(scores)))\n",
    "print('\\nMaximum f1 score: ', max(scores))\n",
    "print('\\nMinimum f1 score: ', min(scores))\n",
    "\n",
    "from sklearn.model_selection import learning_curve\n",
    "train_sizes, train_scores, valid_scores = learning_curve(model, normalized_INPUT3, Y, train_sizes=[10, 30, 50, 70,90, 110,130,150,170,188], cv=nskf,scoring='f1_macro')\n",
    "train_no=[10, 30, 50, 70,90, 110,130,150,170,188]\n",
    "\n",
    "\n",
    "A=np.mean(train_scores, axis = 1)\n",
    "B=np.mean(valid_scores, axis = 1)\n",
    "\n",
    "plt.plot(train_no, A,label = \"Training Score\", color = 'b')\n",
    "plt.plot(train_no, B,label = \"Cross Validation Score\", color = 'g')\n",
    "plt.title(\"learning curve of knn\")\n",
    "plt.xlabel(\"Number of training example\")\n",
    "plt.ylabel(\"f1 score\")\n",
    "plt.tight_layout()\n",
    "plt.legend(loc = 'best')\n",
    "plt.show()"
   ]
  },
  {
   "cell_type": "code",
   "execution_count": 5,
   "metadata": {},
   "outputs": [
    {
     "name": "stdout",
     "output_type": "stream",
     "text": [
      "f1 macro: 0.860 (0.045)\n",
      "\n",
      "Maximum f1 score:  0.9395725865880619\n",
      "\n",
      "Minimum f1 score:  0.7558878982520052\n"
     ]
    },
    {
     "data": {
      "image/png": "[encoded data removed]",
      "text/plain": [
       "<Figure size 432x288 with 1 Axes>"
      ]
     },
     "metadata": {
      "needs_background": "light"
     },
     "output_type": "display_data"
    }
   ],
   "source": [
    "#drop Ω\n",
    "selected_INPUT4 = INPUT.drop(['Mixing entropy','Ω','γ','VEC','Pauling electronegativity','Molar volume dispersity'],axis=1)\n",
    "selected_INPUT4\n",
    "\n",
    "normalized_INPUT4=(selected_INPUT4-selected_INPUT4.mean())/selected_INPUT4.std()\n",
    "normalized_INPUT4\n",
    "\n",
    "from sklearn import metrics\n",
    "from sklearn.neighbors import KNeighborsClassifier\n",
    "from sklearn.model_selection import RepeatedStratifiedKFold\n",
    "from numpy import mean\n",
    "from numpy import std\n",
    "from sklearn.model_selection import cross_val_score\n",
    "\n",
    "nskf = RepeatedStratifiedKFold(n_splits=5, n_repeats=10, random_state=1)\n",
    "model = KNeighborsClassifier(metric='minkowski',metric_params=None, n_jobs=-1, n_neighbors=7, p=10,weights='uniform')\n",
    "scores = cross_val_score(model, normalized_INPUT4, Y, scoring='f1_macro', cv=nskf, n_jobs=-1)\n",
    "scores\n",
    "# report performance\n",
    "print('f1 macro: %.3f (%.3f)' % (mean(scores), std(scores)))\n",
    "print('\\nMaximum f1 score: ', max(scores))\n",
    "print('\\nMinimum f1 score: ', min(scores))\n",
    "\n",
    "from sklearn.model_selection import learning_curve\n",
    "train_sizes, train_scores, valid_scores = learning_curve(model, normalized_INPUT4, Y, train_sizes=[10, 30, 50, 70,90, 110,130,150,170,188], cv=nskf,scoring='f1_macro')\n",
    "train_no=[10, 30, 50, 70,90, 110,130,150,170,188]\n",
    "\n",
    "\n",
    "A=np.mean(train_scores, axis = 1)\n",
    "B=np.mean(valid_scores, axis = 1)\n",
    "\n",
    "plt.plot(train_no, A,label = \"Training Score\", color = 'b')\n",
    "plt.plot(train_no, B,label = \"Cross Validation Score\", color = 'g')\n",
    "plt.title(\"learning curve of knn\")\n",
    "plt.xlabel(\"Number of training example\")\n",
    "plt.ylabel(\"Accuracy\")\n",
    "plt.tight_layout()\n",
    "plt.legend(loc = 'best')\n",
    "plt.show()"
   ]
  },
  {
   "cell_type": "code",
   "execution_count": 6,
   "metadata": {},
   "outputs": [
    {
     "name": "stdout",
     "output_type": "stream",
     "text": [
      "f1 macro: 0.720 (0.059)\n",
      "\n",
      "Maximum f1 score:  0.8506375227686703\n",
      "\n",
      "Minimum f1 score:  0.6030212407024002\n"
     ]
    },
    {
     "data": {
      "image/png": "[encoded data removed]",
      "text/plain": [
       "<Figure size 432x288 with 1 Axes>"
      ]
     },
     "metadata": {
      "needs_background": "light"
     },
     "output_type": "display_data"
    }
   ],
   "source": [
    "#drop atomic size mismatch and mixing enthalpy and Ω\n",
    "selected_INPUT5 = INPUT.drop(['Mixing entropy','Mixing enthalpy','Atomic size mismatch','Ω','γ','VEC','Pauling electronegativity','Molar volume dispersity'],axis=1)\n",
    "selected_INPUT5\n",
    "\n",
    "normalized_INPUT5=(selected_INPUT5-selected_INPUT5.mean())/selected_INPUT5.std()\n",
    "normalized_INPUT5\n",
    "\n",
    "from sklearn import metrics\n",
    "from sklearn.neighbors import KNeighborsClassifier\n",
    "from sklearn.model_selection import RepeatedStratifiedKFold\n",
    "from numpy import mean\n",
    "from numpy import std\n",
    "from sklearn.model_selection import cross_val_score\n",
    "\n",
    "nskf = RepeatedStratifiedKFold(n_splits=5, n_repeats=10, random_state=1)\n",
    "model = KNeighborsClassifier(metric='minkowski',metric_params=None, n_jobs=-1, n_neighbors=7, p=10,weights='uniform')\n",
    "scores = cross_val_score(model, normalized_INPUT5, Y, scoring='f1_macro', cv=nskf, n_jobs=-1)\n",
    "scores\n",
    "# report performance\n",
    "print('f1 macro: %.3f (%.3f)' % (mean(scores), std(scores)))\n",
    "print('\\nMaximum f1 score: ', max(scores))\n",
    "print('\\nMinimum f1 score: ', min(scores))\n",
    "\n",
    "from sklearn.model_selection import learning_curve\n",
    "train_sizes, train_scores, valid_scores = learning_curve(model, normalized_INPUT5, Y, train_sizes=[10, 30, 50, 70,90, 110,130,150,170,188], cv=nskf,scoring='f1_macro')\n",
    "train_no=[10, 30, 50, 70,90, 110,130,150,170,188]\n",
    "\n",
    "\n",
    "A=np.mean(train_scores, axis = 1)\n",
    "B=np.mean(valid_scores, axis = 1)\n",
    "\n",
    "plt.plot(train_no, A,label = \"Training Score\", color = 'b')\n",
    "plt.plot(train_no, B,label = \"Cross Validation Score\", color = 'g')\n",
    "plt.title(\"learning curve of knn\")\n",
    "plt.xlabel(\"Number of training example\")\n",
    "plt.ylabel(\"Accuracy\")\n",
    "plt.tight_layout()\n",
    "plt.legend(loc = 'best')\n",
    "plt.show()"
   ]
  },
  {
   "cell_type": "code",
   "execution_count": 7,
   "metadata": {},
   "outputs": [
    {
     "name": "stdout",
     "output_type": "stream",
     "text": [
      "f1 macro: 0.861 (0.044)\n",
      "\n",
      "Maximum f1 score:  0.9395725865880619\n",
      "\n",
      "Minimum f1 score:  0.7558878982520052\n"
     ]
    }
   ],
   "source": [
    "#drop Λ and omega\n",
    "selected_INPUT6 = INPUT.drop(['Mixing entropy','Λ','Ω','γ','VEC','Pauling electronegativity','Molar volume dispersity'],axis=1)\n",
    "selected_INPUT6\n",
    "\n",
    "normalized_INPUT6=(selected_INPUT6-selected_INPUT6.mean())/selected_INPUT6.std()\n",
    "normalized_INPUT6\n",
    "\n",
    "from sklearn import metrics\n",
    "from sklearn.neighbors import KNeighborsClassifier\n",
    "from sklearn.model_selection import RepeatedStratifiedKFold\n",
    "from numpy import mean\n",
    "from numpy import std\n",
    "from sklearn.model_selection import cross_val_score\n",
    "\n",
    "nskf = RepeatedStratifiedKFold(n_splits=5, n_repeats=10, random_state=1)\n",
    "model = KNeighborsClassifier(metric='minkowski',metric_params=None, n_jobs=-1, n_neighbors=7, p=10,weights='uniform')\n",
    "scores = cross_val_score(model, normalized_INPUT6, Y, scoring='f1_macro', cv=nskf, n_jobs=-1)\n",
    "scores\n",
    "# report performance\n",
    "print('f1 macro: %.3f (%.3f)' % (mean(scores), std(scores)))\n",
    "print('\\nMaximum f1 score: ', max(scores))\n",
    "print('\\nMinimum f1 score: ', min(scores))\n",
    "\n"
   ]
  },
  {
   "cell_type": "code",
   "execution_count": 8,
   "metadata": {},
   "outputs": [
    {
     "name": "stdout",
     "output_type": "stream",
     "text": [
      "f1 macro: 0.710 (0.058)\n",
      "\n",
      "Maximum f1 score:  0.8100217864923748\n",
      "\n",
      "Minimum f1 score:  0.5817460317460318\n"
     ]
    },
    {
     "data": {
      "image/png": "[encoded data removed]",
      "text/plain": [
       "<Figure size 432x288 with 1 Axes>"
      ]
     },
     "metadata": {
      "needs_background": "light"
     },
     "output_type": "display_data"
    }
   ],
   "source": [
    "#Keep mixing enthalpy\n",
    "selected_INPUT5 = INPUT.drop(['Mixing entropy','Λ','Atomic size mismatch','Ω','γ','VEC','Pauling electronegativity','Molar volume dispersity'],axis=1)\n",
    "selected_INPUT5\n",
    "\n",
    "normalized_INPUT5=(selected_INPUT5-selected_INPUT5.mean())/selected_INPUT5.std()\n",
    "normalized_INPUT5\n",
    "\n",
    "from sklearn import metrics\n",
    "from sklearn.neighbors import KNeighborsClassifier\n",
    "from sklearn.model_selection import RepeatedStratifiedKFold\n",
    "from numpy import mean\n",
    "from numpy import std\n",
    "from sklearn.model_selection import cross_val_score\n",
    "\n",
    "nskf = RepeatedStratifiedKFold(n_splits=5, n_repeats=10, random_state=1)\n",
    "model = KNeighborsClassifier(metric='minkowski',metric_params=None, n_jobs=-1, n_neighbors=7, p=10,weights='uniform')\n",
    "scores = cross_val_score(model, normalized_INPUT5, Y, scoring='f1_macro', cv=nskf, n_jobs=-1)\n",
    "scores\n",
    "# report performance\n",
    "print('f1 macro: %.3f (%.3f)' % (mean(scores), std(scores)))\n",
    "print('\\nMaximum f1 score: ', max(scores))\n",
    "print('\\nMinimum f1 score: ', min(scores))\n",
    "\n",
    "from sklearn.model_selection import learning_curve\n",
    "train_sizes, train_scores, valid_scores = learning_curve(model, normalized_INPUT5, Y, train_sizes=[10, 30, 50, 70,90, 110,130,150,170,188], cv=nskf,scoring='f1_macro')\n",
    "train_no=[10, 30, 50, 70,90, 110,130,150,170,188]\n",
    "\n",
    "\n",
    "A=np.mean(train_scores, axis = 1)\n",
    "B=np.mean(valid_scores, axis = 1)\n",
    "\n",
    "plt.plot(train_no, A,label = \"Training Score\", color = 'b')\n",
    "plt.plot(train_no, B,label = \"Cross Validation Score\", color = 'g')\n",
    "plt.title(\"learning curve of knn\")\n",
    "plt.xlabel(\"Number of training example\")\n",
    "plt.ylabel(\"Accuracy\")\n",
    "plt.tight_layout()\n",
    "plt.legend(loc = 'best')\n",
    "plt.show()"
   ]
  },
  {
   "cell_type": "code",
   "execution_count": 10,
   "metadata": {},
   "outputs": [
    {
     "name": "stdout",
     "output_type": "stream",
     "text": [
      "f1 macro: 0.725 (0.058)\n",
      "\n",
      "Maximum f1 score:  0.8268476621417798\n",
      "\n",
      "Minimum f1 score:  0.5982042648709315\n"
     ]
    },
    {
     "data": {
      "image/png": "[encoded data removed]",
      "text/plain": [
       "<Figure size 432x288 with 1 Axes>"
      ]
     },
     "metadata": {
      "needs_background": "light"
     },
     "output_type": "display_data"
    }
   ],
   "source": [
    "#Keep atomic size mismatch\n",
    "selected_INPUT7 = INPUT.drop(['Mixing entropy','Λ','Mixing enthalpy','Ω','γ','VEC','Pauling electronegativity','Molar volume dispersity'],axis=1)\n",
    "selected_INPUT7\n",
    "\n",
    "normalized_INPUT7=(selected_INPUT7-selected_INPUT7.mean())/selected_INPUT7.std()\n",
    "normalized_INPUT7\n",
    "\n",
    "from sklearn import metrics\n",
    "from sklearn.neighbors import KNeighborsClassifier\n",
    "from sklearn.model_selection import RepeatedStratifiedKFold\n",
    "from numpy import mean\n",
    "from numpy import std\n",
    "from sklearn.model_selection import cross_val_score\n",
    "\n",
    "nskf = RepeatedStratifiedKFold(n_splits=5, n_repeats=10, random_state=1)\n",
    "model = KNeighborsClassifier(metric='minkowski',metric_params=None, n_jobs=-1, n_neighbors=7, p=10,weights='uniform')\n",
    "scores = cross_val_score(model, normalized_INPUT7, Y, scoring='f1_macro', cv=nskf, n_jobs=-1)\n",
    "scores\n",
    "# report performance\n",
    "print('f1 macro: %.3f (%.3f)' % (mean(scores), std(scores)))\n",
    "print('\\nMaximum f1 score: ', max(scores))\n",
    "print('\\nMinimum f1 score: ', min(scores))\n",
    "\n",
    "from sklearn.model_selection import learning_curve\n",
    "train_sizes, train_scores, valid_scores = learning_curve(model, normalized_INPUT7, Y, train_sizes=[10, 30, 50, 70,90, 110,130,150,170,188], cv=nskf,scoring='f1_macro')\n",
    "train_no=[10, 30, 50, 70,90, 110,130,150,170,188]\n",
    "\n",
    "\n",
    "A=np.mean(train_scores, axis = 1)\n",
    "B=np.mean(valid_scores, axis = 1)\n",
    "\n",
    "plt.plot(train_no, A,label = \"Training Score\", color = 'b')\n",
    "plt.plot(train_no, B,label = \"Cross Validation Score\", color = 'g')\n",
    "plt.title(\"learning curve of knn\")\n",
    "plt.xlabel(\"Number of training example\")\n",
    "plt.ylabel(\"Accuracy\")\n",
    "plt.tight_layout()\n",
    "plt.legend(loc = 'best')\n",
    "plt.show()"
   ]
  },
  {
   "cell_type": "code",
   "execution_count": 12,
   "metadata": {},
   "outputs": [
    {
     "name": "stdout",
     "output_type": "stream",
     "text": [
      "f1 macro: 0.720 (0.059)\n",
      "\n",
      "Maximum f1 score:  0.8506375227686703\n",
      "\n",
      "Minimum f1 score:  0.6030212407024002\n"
     ]
    }
   ],
   "source": [
    "#Keep Λ\n",
    "selected_INPUT8 = INPUT.drop(['Mixing entropy','Atomic size mismatch','Mixing enthalpy','Ω','γ','VEC','Pauling electronegativity','Molar volume dispersity'],axis=1)\n",
    "selected_INPUT8\n",
    "\n",
    "normalized_INPUT8=(selected_INPUT8-selected_INPUT8.mean())/selected_INPUT8.std()\n",
    "normalized_INPUT8\n",
    "\n",
    "from sklearn import metrics\n",
    "from sklearn.neighbors import KNeighborsClassifier\n",
    "from sklearn.model_selection import RepeatedStratifiedKFold\n",
    "from numpy import mean\n",
    "from numpy import std\n",
    "from sklearn.model_selection import cross_val_score\n",
    "\n",
    "nskf = RepeatedStratifiedKFold(n_splits=5, n_repeats=10, random_state=1)\n",
    "model = KNeighborsClassifier(metric='minkowski',metric_params=None, n_jobs=-1, n_neighbors=7, p=10,weights='uniform')\n",
    "scores = cross_val_score(model, normalized_INPUT8, Y, scoring='f1_macro', cv=nskf, n_jobs=-1)\n",
    "scores\n",
    "# report performance\n",
    "print('f1 macro: %.3f (%.3f)' % (mean(scores), std(scores)))\n",
    "print('\\nMaximum f1 score: ', max(scores))\n",
    "print('\\nMinimum f1 score: ', min(scores))"
   ]
  },
  {
   "cell_type": "code",
   "execution_count": 13,
   "metadata": {},
   "outputs": [
    {
     "name": "stdout",
     "output_type": "stream",
     "text": [
      "f1 macro: 0.668 (0.054)\n",
      "\n",
      "Maximum f1 score:  0.7992530345471521\n",
      "\n",
      "Minimum f1 score:  0.5175983436853002\n"
     ]
    }
   ],
   "source": [
    "#Keep Ω\n",
    "selected_INPUT8 = INPUT.drop(['Mixing entropy','Atomic size mismatch','Mixing enthalpy','Λ','γ','VEC','Pauling electronegativity','Molar volume dispersity'],axis=1)\n",
    "selected_INPUT8\n",
    "\n",
    "normalized_INPUT8=(selected_INPUT8-selected_INPUT8.mean())/selected_INPUT8.std()\n",
    "normalized_INPUT8\n",
    "\n",
    "from sklearn import metrics\n",
    "from sklearn.neighbors import KNeighborsClassifier\n",
    "from sklearn.model_selection import RepeatedStratifiedKFold\n",
    "from numpy import mean\n",
    "from numpy import std\n",
    "from sklearn.model_selection import cross_val_score\n",
    "\n",
    "nskf = RepeatedStratifiedKFold(n_splits=5, n_repeats=10, random_state=1)\n",
    "model = KNeighborsClassifier(metric='minkowski',metric_params=None, n_jobs=-1, n_neighbors=7, p=10,weights='uniform')\n",
    "scores = cross_val_score(model, normalized_INPUT8, Y, scoring='f1_macro', cv=nskf, n_jobs=-1)\n",
    "scores\n",
    "# report performance\n",
    "print('f1 macro: %.3f (%.3f)' % (mean(scores), std(scores)))\n",
    "print('\\nMaximum f1 score: ', max(scores))\n",
    "print('\\nMinimum f1 score: ', min(scores))"
   ]
  },
  {
   "cell_type": "code",
   "execution_count": 14,
   "metadata": {},
   "outputs": [
    {
     "name": "stdout",
     "output_type": "stream",
     "text": [
      "f1 macro: 0.724 (0.056)\n",
      "\n",
      "Maximum f1 score:  0.8401559454191033\n",
      "\n",
      "Minimum f1 score:  0.5584185929013515\n"
     ]
    }
   ],
   "source": [
    "#drop Atomic size mismatch and Ω\n",
    "selected_INPUT9 = INPUT.drop(['Mixing entropy','Atomic size mismatch','γ','Ω','VEC','Pauling electronegativity','Molar volume dispersity'],axis=1)\n",
    "selected_INPUT9\n",
    "\n",
    "normalized_INPUT9=(selected_INPUT9-selected_INPUT9.mean())/selected_INPUT9.std()\n",
    "normalized_INPUT9\n",
    "\n",
    "from sklearn import metrics\n",
    "from sklearn.neighbors import KNeighborsClassifier\n",
    "from sklearn.model_selection import RepeatedStratifiedKFold\n",
    "from numpy import mean\n",
    "from numpy import std\n",
    "from sklearn.model_selection import cross_val_score\n",
    "\n",
    "nskf = RepeatedStratifiedKFold(n_splits=5, n_repeats=10, random_state=1)\n",
    "model = KNeighborsClassifier(metric='minkowski',metric_params=None, n_jobs=-1, n_neighbors=7, p=10,weights='uniform')\n",
    "scores = cross_val_score(model, normalized_INPUT9, Y, scoring='f1_macro', cv=nskf, n_jobs=-1)\n",
    "scores\n",
    "# report performance\n",
    "print('f1 macro: %.3f (%.3f)' % (mean(scores), std(scores)))\n",
    "print('\\nMaximum f1 score: ', max(scores))\n",
    "print('\\nMinimum f1 score: ', min(scores))\n"
   ]
  },
  {
   "cell_type": "code",
   "execution_count": 15,
   "metadata": {},
   "outputs": [
    {
     "name": "stdout",
     "output_type": "stream",
     "text": [
      "f1 macro: 0.715 (0.059)\n",
      "\n",
      "Maximum f1 score:  0.8286354704003931\n",
      "\n",
      "Minimum f1 score:  0.5817460317460318\n"
     ]
    }
   ],
   "source": [
    "#drop Atomic size mismatch and Λ\n",
    "selected_INPUT10 = INPUT.drop(['Mixing entropy','Atomic size mismatch','γ','Λ','VEC','Pauling electronegativity','Molar volume dispersity'],axis=1)\n",
    "selected_INPUT10\n",
    "\n",
    "normalized_INPUT10=(selected_INPUT10-selected_INPUT10.mean())/selected_INPUT10.std()\n",
    "normalized_INPUT10\n",
    "\n",
    "from sklearn import metrics\n",
    "from sklearn.neighbors import KNeighborsClassifier\n",
    "from sklearn.model_selection import RepeatedStratifiedKFold\n",
    "from numpy import mean\n",
    "from numpy import std\n",
    "from sklearn.model_selection import cross_val_score\n",
    "\n",
    "nskf = RepeatedStratifiedKFold(n_splits=5, n_repeats=10, random_state=1)\n",
    "model = KNeighborsClassifier(metric='minkowski',metric_params=None, n_jobs=-1,n_neighbors=7, p=10,weights='uniform')\n",
    "scores = cross_val_score(model, normalized_INPUT10, Y, scoring='f1_macro', cv=nskf, n_jobs=-1)\n",
    "scores\n",
    "# report performance\n",
    "print('f1 macro: %.3f (%.3f)' % (mean(scores), std(scores)))\n",
    "print('\\nMaximum f1 score: ', max(scores))\n",
    "print('\\nMinimum f1 score: ', min(scores))"
   ]
  },
  {
   "cell_type": "code",
   "execution_count": 16,
   "metadata": {},
   "outputs": [
    {
     "name": "stdout",
     "output_type": "stream",
     "text": [
      "f1 macro: 0.852 (0.048)\n",
      "\n",
      "Maximum f1 score:  0.9585858585858587\n",
      "\n",
      "Minimum f1 score:  0.7406896551724138\n"
     ]
    }
   ],
   "source": [
    "#drop mixing enthalpy and Λ\n",
    "selected_INPUT11 = INPUT.drop(['Mixing entropy','Mixing enthalpy','γ','Λ','VEC','Pauling electronegativity','Molar volume dispersity'],axis=1)\n",
    "selected_INPUT11\n",
    "\n",
    "normalized_INPUT11=(selected_INPUT11-selected_INPUT11.mean())/selected_INPUT11.std()\n",
    "normalized_INPUT11\n",
    "\n",
    "from sklearn import metrics\n",
    "from sklearn.neighbors import KNeighborsClassifier\n",
    "from sklearn.model_selection import RepeatedStratifiedKFold\n",
    "from numpy import mean\n",
    "from numpy import std\n",
    "from sklearn.model_selection import cross_val_score\n",
    "\n",
    "nskf = RepeatedStratifiedKFold(n_splits=5, n_repeats=10, random_state=1)\n",
    "model = KNeighborsClassifier(metric='minkowski',metric_params=None, n_jobs=-1, n_neighbors=7, p=10,weights='uniform')\n",
    "scores = cross_val_score(model, normalized_INPUT11, Y, scoring='f1_macro', cv=nskf, n_jobs=-1)\n",
    "scores\n",
    "# report performance\n",
    "print('f1 macro: %.3f (%.3f)' % (mean(scores), std(scores)))\n",
    "print('\\nMaximum f1 score: ', max(scores))\n",
    "print('\\nMinimum f1 score: ', min(scores))"
   ]
  },
  {
   "cell_type": "code",
   "execution_count": 17,
   "metadata": {},
   "outputs": [
    {
     "name": "stdout",
     "output_type": "stream",
     "text": [
      "f1 macro: 0.723 (0.054)\n",
      "\n",
      "Maximum f1 score:  0.8268476621417798\n",
      "\n",
      "Minimum f1 score:  0.5982042648709315\n"
     ]
    }
   ],
   "source": [
    "#drop mixing enthalpy and Ω\n",
    "selected_INPUT12 = INPUT.drop(['Mixing entropy','Mixing enthalpy','γ','Ω','VEC','Pauling electronegativity','Molar volume dispersity'],axis=1)\n",
    "selected_INPUT12\n",
    "\n",
    "normalized_INPUT12=(selected_INPUT12-selected_INPUT12.mean())/selected_INPUT12.std()\n",
    "normalized_INPUT12\n",
    "\n",
    "from sklearn import metrics\n",
    "from sklearn.neighbors import KNeighborsClassifier\n",
    "from sklearn.model_selection import RepeatedStratifiedKFold\n",
    "from numpy import mean\n",
    "from numpy import std\n",
    "from sklearn.model_selection import cross_val_score\n",
    "\n",
    "nskf = RepeatedStratifiedKFold(n_splits=5, n_repeats=10, random_state=1)\n",
    "model = KNeighborsClassifier(metric='minkowski',metric_params=None, n_jobs=-1, n_neighbors=7, p=10,weights='uniform')\n",
    "scores = cross_val_score(model, normalized_INPUT12, Y, scoring='f1_macro', cv=nskf, n_jobs=-1)\n",
    "scores\n",
    "# report performance\n",
    "print('f1 macro: %.3f (%.3f)' % (mean(scores), std(scores)))\n",
    "print('\\nMaximum f1 score: ', max(scores))\n",
    "print('\\nMinimum f1 score: ', min(scores))"
   ]
  },
  {
   "cell_type": "code",
   "execution_count": 18,
   "metadata": {},
   "outputs": [
    {
     "name": "stdout",
     "output_type": "stream",
     "text": [
      "f1 macro: 0.793 (0.057)\n",
      "\n",
      "Maximum f1 score:  0.9164054336468129\n",
      "\n",
      "Minimum f1 score:  0.6614097968936679\n"
     ]
    }
   ],
   "source": [
    "#drop mixing enthalpy and atomic size mismatch\n",
    "selected_INPUT13 = INPUT.drop(['Mixing entropy','Mixing enthalpy','γ','Atomic size mismatch','VEC','Pauling electronegativity','Molar volume dispersity'],axis=1)\n",
    "selected_INPUT13\n",
    "\n",
    "normalized_INPUT13=(selected_INPUT13-selected_INPUT13.mean())/selected_INPUT13.std()\n",
    "normalized_INPUT13\n",
    "\n",
    "from sklearn import metrics\n",
    "from sklearn.neighbors import KNeighborsClassifier\n",
    "from sklearn.model_selection import RepeatedStratifiedKFold\n",
    "from numpy import mean\n",
    "from numpy import std\n",
    "from sklearn.model_selection import cross_val_score\n",
    "\n",
    "nskf = RepeatedStratifiedKFold(n_splits=5, n_repeats=10, random_state=1)\n",
    "model = KNeighborsClassifier(metric='minkowski',metric_params=None, n_jobs=-1, n_neighbors=7, p=10,weights='uniform')\n",
    "scores = cross_val_score(model, normalized_INPUT13, Y, scoring='f1_macro', cv=nskf, n_jobs=-1)\n",
    "scores\n",
    "# report performance\n",
    "print('f1 macro: %.3f (%.3f)' % (mean(scores), std(scores)))\n",
    "print('\\nMaximum f1 score: ', max(scores))\n",
    "print('\\nMinimum f1 score: ', min(scores))"
   ]
  },
  {
   "cell_type": "code",
   "execution_count": null,
   "metadata": {},
   "outputs": [],
   "source": []
  }
 ],
 "metadata": {
  "kernelspec": {
   "display_name": "Python 3 (ipykernel)",
   "language": "python",
   "name": "python3"
  },
  "language_info": {
   "codemirror_mode": {
    "name": "ipython",
    "version": 3
   },
   "file_extension": ".py",
   "mimetype": "text/x-python",
   "name": "python",
   "nbconvert_exporter": "python",
   "pygments_lexer": "ipython3",
   "version": "3.12.7"
  }
 },
 "nbformat": 4,
 "nbformat_minor": 4
}
