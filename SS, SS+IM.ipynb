{
 "cells": [
  {
   "cell_type": "code",
   "execution_count": 4,
   "metadata": {},
   "outputs": [
    {
     "name": "stdout",
     "output_type": "stream",
     "text": [
      "     Sl no         Composition  Mixing entropy  Mixing enthalpy   Omega  \\\n",
      "0        1            FeCrNiAl           11.53           -21.02  1.5660   \n",
      "1        2      Fe35(CrNiAl)65           11.32           -11.50  1.6500   \n",
      "2        3      Fe45(CrNiAl)55           10.47            -9.81  1.8640   \n",
      "3        4      Fe55(CrNiAl)45            9.83            -8.09  2.0910   \n",
      "4        5      Fe65(CrNiAl)35            8.58            -6.35  2.3540   \n",
      "..     ...                 ...             ...              ...     ...   \n",
      "197    198   Nb31Ti30Zr26Al6V7           11.88            -7.57  3.4500   \n",
      "198    199   Nb31Ti28Zr26Al6V9           12.10            -7.68  3.4700   \n",
      "199    200  Nb31Ti26Zr26Al6V11           12.26            -7.78  3.4793   \n",
      "200    201              MoReRu            9.13            -9.79  2.7870   \n",
      "201    202    Ti10Fe30Co30Ni30           10.92           -10.26  1.9010   \n",
      "\n",
      "      Gamma  Atomic size mismatch  Lambda    VEC  Pauling electronegativity  \\\n",
      "0    1.1575                5.5200  0.3775  5.570                     0.1200   \n",
      "1    1.1578                5.3100  0.4000  6.916                     0.1160   \n",
      "2    1.1581                5.0450  0.4220  7.083                     0.1100   \n",
      "3    1.1585                4.7030  0.4440  7.250                     0.1010   \n",
      "4    1.1588                4.2690  0.4700  7.416                     0.0919   \n",
      "..      ...                   ...     ...    ...                        ...   \n",
      "197  1.1994                4.7214  0.5331  4.320                     0.1131   \n",
      "198  1.1996                4.9123  0.5013  4.340                     0.1142   \n",
      "199  1.1997                5.0921  0.4729  4.360                     0.1152   \n",
      "200  1.0483                1.7879  2.8570  7.000                     0.1330   \n",
      "201  1.1960                5.1100  1.6971  8.500                     0.1040   \n",
      "\n",
      "     Molar volume dispersity  Phases  Unnamed: 12 PHASES   Code   Unnamed: 15  \\\n",
      "0                     0.1725  BCC+B2          NaN   SS+IM      1          NaN   \n",
      "1                     0.1648  BCC+B2          NaN   SS+IM      1          NaN   \n",
      "2                     0.1556  BCC+B2          NaN   SS+IM      1          NaN   \n",
      "3                     0.1444  BCC+B2          NaN   SS+IM      1          NaN   \n",
      "4                     0.1306  BCC+B2          NaN   SS+IM      1          NaN   \n",
      "..                       ...     ...          ...     ...    ...          ...   \n",
      "197                   0.1482     BCC          NaN     SSS      0          NaN   \n",
      "198                   0.1533     BCC          NaN     SSS      0          NaN   \n",
      "199                   0.1582     BCC          NaN     SSS      0          NaN   \n",
      "200                   0.0562     HCP          NaN     SSS      0          NaN   \n",
      "201                   0.1639  FCC+IM          NaN   SS+IM      1          NaN   \n",
      "\n",
      "      #SSS  Unnamed: 17  #SS+IM  \n",
      "0    139.0          NaN    52.0  \n",
      "1      NaN          NaN     NaN  \n",
      "2      NaN          NaN     NaN  \n",
      "3      NaN          NaN     NaN  \n",
      "4      NaN          NaN     NaN  \n",
      "..     ...          ...     ...  \n",
      "197    NaN          NaN     NaN  \n",
      "198    NaN          NaN     NaN  \n",
      "199    NaN          NaN     NaN  \n",
      "200    NaN          NaN     NaN  \n",
      "201    NaN          NaN     NaN  \n",
      "\n",
      "[202 rows x 19 columns]\n"
     ]
    }
   ],
   "source": [
    "import numpy as np\n",
    "import pandas as pd\n",
    "import matplotlib.pyplot as plt\n",
    "\n",
    "ID=pd.read_excel('G:\\Priyabrata\\ML\\Individual data.xlsx','SS+SS+IM')\n",
    "print(ID)"
   ]
  },
  {
   "cell_type": "code",
   "execution_count": 11,
   "metadata": {},
   "outputs": [
    {
     "data": {
      "text/plain": [
       "0      1\n",
       "1      1\n",
       "2      1\n",
       "3      1\n",
       "4      1\n",
       "      ..\n",
       "197    0\n",
       "198    0\n",
       "199    0\n",
       "200    0\n",
       "201    1\n",
       "Name: Code , Length: 202, dtype: int64"
      ]
     },
     "execution_count": 11,
     "metadata": {},
     "output_type": "execute_result"
    }
   ],
   "source": [
    "INPUT = ID.iloc[:,2:11]  #all INPUT (Variables)\n",
    "INPUT\n",
    "\n",
    "TARGET = ID.iloc[:,13]\n",
    "TARGET\n",
    "\n",
    "Y = ID.iloc[:,14] #coded phases. 0:MSS, 1:SSS\n",
    "Y\n"
   ]
  },
  {
   "cell_type": "code",
   "execution_count": 75,
   "metadata": {},
   "outputs": [],
   "source": [
    "selected_INPUT = INPUT.drop(['Mixing entropy','Gamma','Pauling electronegativity','Molar volume dispersity'],axis=1)\n",
    "selected_INPUT\n",
    "normalized_INPUT=(selected_INPUT-selected_INPUT.mean())/selected_INPUT.std()"
   ]
  },
  {
   "cell_type": "code",
   "execution_count": 76,
   "metadata": {},
   "outputs": [
    {
     "name": "stderr",
     "output_type": "stream",
     "text": [
      "[Parallel(n_jobs=-1)]: Using backend LokyBackend with 8 concurrent workers.\n",
      "[Parallel(n_jobs=-1)]: Done  16 tasks      | elapsed:    4.7s\n"
     ]
    },
    {
     "name": "stdout",
     "output_type": "stream",
     "text": [
      "f1 score: 0.855 (0.059)\n",
      "\n",
      "Maximum f1 score:  1.0\n",
      "\n",
      "Minimum f1 score:  0.6875\n"
     ]
    },
    {
     "name": "stderr",
     "output_type": "stream",
     "text": [
      "[Parallel(n_jobs=-1)]: Done  50 out of  50 | elapsed:    9.3s finished\n"
     ]
    }
   ],
   "source": [
    "#ANN classifier for supervised learning\n",
    "from sklearn.model_selection import train_test_split\n",
    "from sklearn.neural_network import MLPClassifier\n",
    "from sklearn import metrics\n",
    "\n",
    "#Repeated Stratified k fold cross validation (for imbalanced datasets)\n",
    "from sklearn.neural_network import MLPClassifier\n",
    "from sklearn.model_selection import RepeatedStratifiedKFold\n",
    "from numpy import mean\n",
    "from numpy import std\n",
    "from sklearn.model_selection import cross_val_score\n",
    "\n",
    "\n",
    "    \n",
    "normalized_INPUT=(selected_INPUT-selected_INPUT.mean())/selected_INPUT.std()\n",
    "nskf = RepeatedStratifiedKFold(n_splits=5, n_repeats=10, random_state=1)\n",
    "model2 = MLPClassifier(hidden_layer_sizes=(10,10), activation='relu', solver='adam', alpha=0.0000001, batch_size=15, learning_rate='adaptive', learning_rate_init=0.01,max_iter=1500, shuffle=True, warm_start='False') #batch size has no meaning for lbfgs\n",
    "    \n",
    "# evaluate model\n",
    "scores = cross_val_score(model2, normalized_INPUT, Y, scoring='f1_macro', cv=nskf, verbose=3,n_jobs=-1)\n",
    "scores\n",
    "print('f1 score: %.3f (%.3f)' % (mean(scores), std(scores)))\n",
    "print('\\nMaximum f1 score: ', max(scores))\n",
    "print('\\nMinimum f1 score: ', min(scores))"
   ]
  },
  {
   "cell_type": "code",
   "execution_count": 78,
   "metadata": {},
   "outputs": [
    {
     "name": "stderr",
     "output_type": "stream",
     "text": [
      "[Parallel(n_jobs=-1)]: Using backend LokyBackend with 8 concurrent workers.\n",
      "[Parallel(n_jobs=-1)]: Done  16 tasks      | elapsed:    0.3s\n"
     ]
    },
    {
     "name": "stdout",
     "output_type": "stream",
     "text": [
      "f1 score: 0.835 (0.070)\n",
      "\n",
      "Maximum f1 score:  1.0\n",
      "\n",
      "Minimum f1 score:  0.6307692307692307\n"
     ]
    },
    {
     "name": "stderr",
     "output_type": "stream",
     "text": [
      "[Parallel(n_jobs=-1)]: Done  50 out of  50 | elapsed:    1.0s finished\n"
     ]
    }
   ],
   "source": [
    "#KNN\n",
    "\n",
    "from sklearn import metrics\n",
    "from sklearn.neighbors import KNeighborsClassifier\n",
    "from sklearn.model_selection import RepeatedStratifiedKFold\n",
    "from numpy import mean\n",
    "from numpy import std\n",
    "from sklearn.model_selection import cross_val_score\n",
    "\n",
    "nskf = RepeatedStratifiedKFold(n_splits=5, n_repeats=10, random_state=1)\n",
    "model = KNeighborsClassifier(metric='minkowski',metric_params = None, n_jobs=-1, n_neighbors=5, p=2,weights='uniform')\n",
    "scores = cross_val_score(model, normalized_INPUT, Y, scoring='f1_macro', cv=nskf, n_jobs=-1)\n",
    "scores\n",
    "    \n",
    "# evaluate model\n",
    "scores = cross_val_score(model, normalized_INPUT, Y, scoring='f1_macro', cv=nskf, verbose=3,n_jobs=-1)\n",
    "scores\n",
    "print('f1 score: %.3f (%.3f)' % (mean(scores), std(scores)))\n",
    "print('\\nMaximum f1 score: ', max(scores))\n",
    "print('\\nMinimum f1 score: ', min(scores))"
   ]
  },
  {
   "cell_type": "code",
   "execution_count": 71,
   "metadata": {},
   "outputs": [
    {
     "name": "stderr",
     "output_type": "stream",
     "text": [
      "[Parallel(n_jobs=-1)]: Using backend LokyBackend with 8 concurrent workers.\n",
      "[Parallel(n_jobs=-1)]: Done   9 tasks      | elapsed:    3.2s\n",
      "[Parallel(n_jobs=-1)]: Done  48 out of  50 | elapsed:    4.4s remaining:    0.1s\n"
     ]
    },
    {
     "name": "stdout",
     "output_type": "stream",
     "text": [
      "f1_macro: 0.805 (0.074)\n",
      "\n",
      "Maximum f1 score:  0.9410919540229885\n",
      "\n",
      "Minimum f1 score:  0.6000000000000001\n"
     ]
    },
    {
     "name": "stderr",
     "output_type": "stream",
     "text": [
      "[Parallel(n_jobs=-1)]: Done  50 out of  50 | elapsed:    4.7s finished\n"
     ]
    }
   ],
   "source": [
    "#RF\n",
    "from sklearn.model_selection import RepeatedStratifiedKFold\n",
    "from sklearn.ensemble import RandomForestClassifier\n",
    "from sklearn.model_selection import cross_val_score\n",
    "from numpy import mean\n",
    "from numpy import std\n",
    "import matplotlib.pyplot as plt\n",
    "\n",
    "rfc = RandomForestClassifier(n_estimators=50, max_depth=2, max_leaf_nodes=4, min_samples_split=6,min_samples_leaf=3,max_features='auto', bootstrap=True, n_jobs=-1)\n",
    "nskf = RepeatedStratifiedKFold(n_splits=5, n_repeats=10, random_state=1)\n",
    "scores = cross_val_score(rfc, normalized_INPUT, Y, scoring='f1_macro', verbose=4,cv=nskf, n_jobs=-1)\n",
    "scores\n",
    "# report performance\n",
    "print('f1_macro: %.3f (%.3f)' % (mean(scores), std(scores)))\n",
    "print('\\nMaximum f1 score: ', max(scores))\n",
    "print('\\nMinimum f1 score: ', min(scores))\n"
   ]
  },
  {
   "cell_type": "code",
   "execution_count": 102,
   "metadata": {},
   "outputs": [
    {
     "name": "stdout",
     "output_type": "stream",
     "text": [
      "              precision    recall  f1-score   support\n",
      "\n",
      "           0       0.92      0.93      0.92      1490\n",
      "           1       0.79      0.78      0.79       530\n",
      "\n",
      "    accuracy                           0.89      2020\n",
      "   macro avg       0.86      0.85      0.85      2020\n",
      "weighted avg       0.89      0.89      0.89      2020\n",
      "\n"
     ]
    }
   ],
   "source": [
    "#classification report \n",
    "originalclass = []\n",
    "predictedclass = []\n",
    "from sklearn.metrics import make_scorer\n",
    "from sklearn.metrics import accuracy_score\n",
    "from sklearn.metrics import f1_score\n",
    "from sklearn.metrics import classification_report\n",
    "\n",
    "X = normalized_INPUT\n",
    "y = Y\n",
    "\n",
    "def classification_report_with_f1_score(y_train, y_test):\n",
    "    originalclass.extend(y_train)\n",
    "    predictedclass.extend(y_test)\n",
    "    return f1_score(y_train, y_test,average='macro') # return accuracy score\n",
    "\n",
    "classif_report = cross_val_score(model2, normalized_INPUT,Y, cv=nskf, scoring=make_scorer(classification_report_with_f1_score))\n",
    "\n",
    "# Average values in classification report for all folds in a K-fold Cross-validation  \n",
    "print(classification_report(originalclass, predictedclass))"
   ]
  },
  {
   "cell_type": "code",
   "execution_count": 99,
   "metadata": {},
   "outputs": [
    {
     "data": {
      "text/plain": [
       "array([1, 1, 1, 1, 0, 0, 0, 0, 0, 0, 0, 0, 0, 0, 0, 0, 0, 0, 0, 0, 0, 0,\n",
       "       0, 0, 0, 0, 0, 0, 0, 1, 1, 1, 0, 0, 0, 0, 0, 0, 0, 1, 1, 1, 1, 0,\n",
       "       0, 0, 0, 0, 0, 0, 0, 0, 0, 0, 0, 0, 0, 0, 1, 1, 0, 0, 0, 0, 0, 0,\n",
       "       0, 0, 1, 1, 0, 0, 0, 0, 0, 1, 0, 0, 0, 0, 0, 0, 0, 0, 0, 0, 0, 0,\n",
       "       1, 1, 0, 0, 1, 0, 0, 0, 0, 1, 0, 0, 0, 0, 0, 0, 0, 1, 0, 1, 1, 1,\n",
       "       1, 0, 0, 0, 1, 0, 1, 1, 1, 1, 1, 0, 0, 0, 0, 0, 0, 0, 0, 0, 0, 0,\n",
       "       0, 0, 0, 0, 0, 0, 0, 0, 0, 0, 0, 0, 0, 0, 0, 0, 0, 0, 0, 1, 1, 0,\n",
       "       0, 0, 0, 0, 0, 0, 0, 0, 0, 1, 1, 1, 1, 1, 1, 1, 1, 0, 0, 1, 1, 0,\n",
       "       1, 1, 0, 0, 0, 1, 1, 1, 1, 0, 0, 0, 0, 0, 0, 0, 0, 0, 0, 0, 0, 0,\n",
       "       0, 0, 0, 1], dtype=int64)"
      ]
     },
     "execution_count": 99,
     "metadata": {},
     "output_type": "execute_result"
    }
   ],
   "source": [
    "model2.fit(normalized_INPUT,Y)\n",
    "model2.predict(normalized_INPUT)"
   ]
  },
  {
   "cell_type": "code",
   "execution_count": 100,
   "metadata": {},
   "outputs": [
    {
     "data": {
      "text/plain": [
       "0.9653465346534653"
      ]
     },
     "execution_count": 100,
     "metadata": {},
     "output_type": "execute_result"
    }
   ],
   "source": [
    "model2.score(normalized_INPUT, Y)"
   ]
  },
  {
   "cell_type": "code",
   "execution_count": null,
   "metadata": {},
   "outputs": [],
   "source": []
  }
 ],
 "metadata": {
  "kernelspec": {
   "display_name": "Python 3",
   "language": "python",
   "name": "python3"
  },
  "language_info": {
   "codemirror_mode": {
    "name": "ipython",
    "version": 3
   },
   "file_extension": ".py",
   "mimetype": "text/x-python",
   "name": "python",
   "nbconvert_exporter": "python",
   "pygments_lexer": "ipython3",
   "version": "3.7.6"
  }
 },
 "nbformat": 4,
 "nbformat_minor": 4
}
