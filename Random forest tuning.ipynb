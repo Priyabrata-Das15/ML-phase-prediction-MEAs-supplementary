{
 "cells": [
  {
   "cell_type": "code",
   "execution_count": 1,
   "metadata": {},
   "outputs": [],
   "source": [
    "import numpy as np\n",
    "import pandas as pd\n",
    "import matplotlib.pyplot as plt\n",
    "\n",
    "MEAO = pd.read_excel('G:\\Priyabrata\\ML\\Material data repository.xlsx')\n",
    "INPUT=MEAO.iloc[:,2:11]  #all INPUT (Variables)\n",
    "TARGET=MEAO.iloc[:,20]   #all PHASES SS,SS+IM,AM\n",
    "#TARGET = MEAO.iloc[:,19]\n",
    "\n",
    "Y=MEAO.iloc[:,22] #coded phases. 0:SS, 1:SS+IM, 2:AM\n",
    "#Y = MEAO.iloc[:,23] #coded phases. 0:MSS, 1:SSS, 2:SS+IM, 3:AM\n",
    "\n",
    "\n",
    "selected_INPUT = INPUT.drop(['Mixing entropy','γ','VEC','Pauling electronegativity','Molar volume dispersity'],axis=1)\n",
    "selected_INPUT\n",
    "\n",
    "normalized_INPUT=(selected_INPUT-selected_INPUT.mean())/selected_INPUT.std()"
   ]
  },
  {
   "cell_type": "code",
   "execution_count": 2,
   "metadata": {},
   "outputs": [
    {
     "name": "stdout",
     "output_type": "stream",
     "text": [
      "[[43  3  0]\n",
      " [ 3 14  0]\n",
      " [ 0  0 11]]\n",
      "              precision    recall  f1-score   support\n",
      "\n",
      "           0       0.93      0.93      0.93        46\n",
      "           1       0.82      0.82      0.82        17\n",
      "           2       1.00      1.00      1.00        11\n",
      "\n",
      "    accuracy                           0.92        74\n",
      "   macro avg       0.92      0.92      0.92        74\n",
      "weighted avg       0.92      0.92      0.92        74\n",
      "\n"
     ]
    },
    {
     "data": {
      "text/plain": [
       "0.918918918918919"
      ]
     },
     "execution_count": 2,
     "metadata": {},
     "output_type": "execute_result"
    }
   ],
   "source": [
    "#Random Forest for supervised learning\n",
    "from sklearn.model_selection import train_test_split\n",
    "from sklearn.ensemble import RandomForestClassifier\n",
    "from sklearn import metrics\n",
    "\n",
    "X_train, X_test, y_train, y_test = train_test_split(normalized_INPUT, Y, test_size = 0.30)  #test data size is 30% of total size. #principalDataframe contains 3 PCs and Y contains coded phases (0:SS, 1:SS+IM, 2:AM)\n",
    "\n",
    "rfc = RandomForestClassifier()\n",
    "rfc.fit(X_train,y_train)\n",
    "pred_rfc = rfc.predict(X_test)\n",
    "\n",
    "# Predictions and Evaluations\n",
    "from sklearn.metrics import classification_report, confusion_matrix\n",
    "print(confusion_matrix(y_test, pred_rfc))\n",
    "\n",
    "print(classification_report(y_test, pred_rfc))\n",
    "metrics.accuracy_score(y_test,pred_rfc)   #our accuracy is 70-81%.  one of the best"
   ]
  },
  {
   "cell_type": "code",
   "execution_count": 3,
   "metadata": {},
   "outputs": [
    {
     "name": "stdout",
     "output_type": "stream",
     "text": [
      "Accuracy: 0.868 (0.049)\n"
     ]
    }
   ],
   "source": [
    "#Stratified k fold cross validation (for imbalanced datasets)\n",
    "from numpy import mean\n",
    "from numpy import std\n",
    "from sklearn.model_selection import StratifiedKFold\n",
    "from sklearn.model_selection import RepeatedStratifiedKFold\n",
    "from sklearn.model_selection import cross_val_score\n",
    "\n",
    "skf = StratifiedKFold(n_splits=5, shuffle=True, random_state=1)\n",
    "nskf = RepeatedStratifiedKFold(n_splits=5, n_repeats=10, random_state=1)\n",
    "model = RandomForestClassifier()\n",
    "# evaluate model\n",
    "scores = cross_val_score(model, normalized_INPUT, Y, scoring='accuracy', cv=nskf, n_jobs=-1)\n",
    "scores\n",
    "# report performance\n",
    "print('Accuracy: %.3f (%.3f)' % (mean(scores), std(scores)))\n",
    "\n"
   ]
  },
  {
   "cell_type": "code",
   "execution_count": 4,
   "metadata": {},
   "outputs": [
    {
     "name": "stdout",
     "output_type": "stream",
     "text": [
      "{'min_samples_leaf': [3, 4, 5, 6],\n",
      " 'min_samples_split': [3, 4, 5, 6, 7],\n",
      " 'n_estimators': [5, 10, 20, 30, 40, 50, 60]}\n"
     ]
    }
   ],
   "source": [
    "#Tuning Rf classifier through grid search\n",
    "from sklearn.model_selection import RandomizedSearchCV\n",
    "from pprint import pprint\n",
    "\n",
    "# Number of trees in random forest\n",
    "n_estimators = [5,10,20,30,40,50,60,70]\n",
    "\n",
    "\n",
    "\n",
    "#minimum sample split\n",
    "min_samples_split= [2,3,4,5,6,7]\n",
    "min_samples_leaf = [1,2,3,4,5,6,7,8,9,10,11,12,13,14,15,16,17,18,19,20,21,22,23,24]\n",
    "max_depth = [1,2,3,4,5,6,7,8,9,10]\n",
    "\n",
    "# Method of selecting samples for training each tree\n",
    "bootstrap = [True, False]\n",
    "\n",
    "# Create the random grid\n",
    "random_grid = {'n_estimators': n_estimators,\n",
    "               'min_samples_split':min_samples_split,\n",
    "              'min_samples_leaf':min_samples_leaf,\n",
    "              'max_depth': max_depth}\n",
    "pprint(random_grid)"
   ]
  },
  {
   "cell_type": "code",
   "execution_count": 6,
   "metadata": {},
   "outputs": [
    {
     "name": "stdout",
     "output_type": "stream",
     "text": [
      "Fitting 50 folds for each of 140 candidates, totalling 7000 fits\n"
     ]
    },
    {
     "name": "stderr",
     "output_type": "stream",
     "text": [
      "[Parallel(n_jobs=-1)]: Using backend LokyBackend with 8 concurrent workers.\n",
      "[Parallel(n_jobs=-1)]: Batch computation too fast (0.0309s.) Setting batch_size=2.\n",
      "[Parallel(n_jobs=-1)]: Done   2 tasks      | elapsed:    0.0s\n",
      "[Parallel(n_jobs=-1)]: Done   9 tasks      | elapsed:    0.0s\n",
      "[Parallel(n_jobs=-1)]: Done  16 tasks      | elapsed:    0.0s\n",
      "[Parallel(n_jobs=-1)]: Batch computation too fast (0.0611s.) Setting batch_size=4.\n",
      "[Parallel(n_jobs=-1)]: Done  34 tasks      | elapsed:    0.0s\n",
      "[Parallel(n_jobs=-1)]: Batch computation too fast (0.1708s.) Setting batch_size=8.\n",
      "[Parallel(n_jobs=-1)]: Done  56 tasks      | elapsed:    0.2s\n",
      "[Parallel(n_jobs=-1)]: Done 100 tasks      | elapsed:    0.4s\n",
      "[Parallel(n_jobs=-1)]: Done 176 tasks      | elapsed:    1.3s\n",
      "[Parallel(n_jobs=-1)]: Done 280 tasks      | elapsed:    2.7s\n",
      "[Parallel(n_jobs=-1)]: Done 384 tasks      | elapsed:    3.8s\n",
      "[Parallel(n_jobs=-1)]: Done 504 tasks      | elapsed:    4.7s\n",
      "[Parallel(n_jobs=-1)]: Done 624 tasks      | elapsed:    6.4s\n",
      "[Parallel(n_jobs=-1)]: Done 760 tasks      | elapsed:    7.5s\n",
      "[Parallel(n_jobs=-1)]: Done 896 tasks      | elapsed:    8.7s\n",
      "[Parallel(n_jobs=-1)]: Done 1048 tasks      | elapsed:   10.8s\n",
      "[Parallel(n_jobs=-1)]: Done 1200 tasks      | elapsed:   11.8s\n",
      "[Parallel(n_jobs=-1)]: Done 1368 tasks      | elapsed:   14.1s\n",
      "[Parallel(n_jobs=-1)]: Done 1536 tasks      | elapsed:   15.4s\n",
      "[Parallel(n_jobs=-1)]: Done 1720 tasks      | elapsed:   18.1s\n",
      "[Parallel(n_jobs=-1)]: Done 1904 tasks      | elapsed:   19.4s\n",
      "[Parallel(n_jobs=-1)]: Done 2104 tasks      | elapsed:   22.3s\n",
      "[Parallel(n_jobs=-1)]: Done 2304 tasks      | elapsed:   24.0s\n",
      "[Parallel(n_jobs=-1)]: Done 2520 tasks      | elapsed:   26.6s\n",
      "[Parallel(n_jobs=-1)]: Done 2736 tasks      | elapsed:   29.2s\n",
      "[Parallel(n_jobs=-1)]: Done 2968 tasks      | elapsed:   31.4s\n",
      "[Parallel(n_jobs=-1)]: Done 3200 tasks      | elapsed:   34.1s\n",
      "[Parallel(n_jobs=-1)]: Done 3448 tasks      | elapsed:   36.6s\n",
      "[Parallel(n_jobs=-1)]: Done 3696 tasks      | elapsed:   38.9s\n",
      "[Parallel(n_jobs=-1)]: Done 3960 tasks      | elapsed:   41.7s\n",
      "[Parallel(n_jobs=-1)]: Done 4224 tasks      | elapsed:   44.8s\n",
      "[Parallel(n_jobs=-1)]: Done 4504 tasks      | elapsed:   47.8s\n",
      "[Parallel(n_jobs=-1)]: Done 4784 tasks      | elapsed:   50.4s\n",
      "[Parallel(n_jobs=-1)]: Done 5080 tasks      | elapsed:   53.3s\n",
      "[Parallel(n_jobs=-1)]: Done 5376 tasks      | elapsed:   56.3s\n",
      "[Parallel(n_jobs=-1)]: Done 5688 tasks      | elapsed:   59.8s\n",
      "[Parallel(n_jobs=-1)]: Done 6000 tasks      | elapsed:  1.1min\n",
      "[Parallel(n_jobs=-1)]: Done 6328 tasks      | elapsed:  1.1min\n",
      "[Parallel(n_jobs=-1)]: Done 6656 tasks      | elapsed:  1.2min\n",
      "[Parallel(n_jobs=-1)]: Done 6944 tasks      | elapsed:  1.2min\n",
      "[Parallel(n_jobs=-1)]: Done 6985 out of 7000 | elapsed:  1.2min remaining:    0.1s\n",
      "[Parallel(n_jobs=-1)]: Done 7000 out of 7000 | elapsed:  1.2min finished\n"
     ]
    },
    {
     "data": {
      "text/plain": [
       "{'min_samples_leaf': 4, 'min_samples_split': 6, 'n_estimators': 40}"
      ]
     },
     "execution_count": 6,
     "metadata": {},
     "output_type": "execute_result"
    }
   ],
   "source": [
    "# Use the random grid to search for best hyperparameters\n",
    "# First create the base model to tune\n",
    "from sklearn.model_selection import GridSearchCV\n",
    "rf = RandomForestClassifier()\n",
    "\n",
    "# Random search of parameters, using 5 fold cross validation, \n",
    "# search across 100 different combinations, and use all available cores\n",
    "rf_grid = GridSearchCV(rf, param_grid=random_grid,verbose=10, cv=nskf, scoring=\"f1_macro\",n_jobs = -1)\n",
    "#rf_random = RandomizedSearchCV(estimator = rf, param_distributions = random_grid, n_iter = 1000, cv = skf, verbose=2, random_state=42, n_jobs = -1)\n",
    "\n",
    "# Fit the random search model\n",
    "rf_grid.fit(normalized_INPUT,Y)\n",
    "rf_grid.best_params_"
   ]
  },
  {
   "cell_type": "code",
   "execution_count": 10,
   "metadata": {},
   "outputs": [
    {
     "name": "stderr",
     "output_type": "stream",
     "text": [
      "[Parallel(n_jobs=-1)]: Using backend LokyBackend with 8 concurrent workers.\n",
      "[Parallel(n_jobs=-1)]: Done  23 out of  25 | elapsed: 26.6min remaining:  2.3min\n"
     ]
    },
    {
     "name": "stdout",
     "output_type": "stream",
     "text": [
      "Accuracy: 0.872 (0.044)\n"
     ]
    },
    {
     "name": "stderr",
     "output_type": "stream",
     "text": [
      "[Parallel(n_jobs=-1)]: Done  25 out of  25 | elapsed: 33.2min finished\n"
     ]
    }
   ],
   "source": [
    "model_best = rf_grid\n",
    "scores = cross_val_score(model_best, normalized_INPUT, Y, scoring='accuracy',verbose=2, cv=nskf, n_jobs=-1)\n",
    "scores\n",
    "# report performance\n",
    "print('Accuracy: %.3f (%.3f)' % (mean(scores), std(scores)))\n"
   ]
  },
  {
   "cell_type": "code",
   "execution_count": 9,
   "metadata": {},
   "outputs": [
    {
     "name": "stderr",
     "output_type": "stream",
     "text": [
      "[Parallel(n_jobs=-1)]: Using backend LokyBackend with 8 concurrent workers.\n",
      "[Parallel(n_jobs=-1)]: Done   9 tasks      | elapsed:    0.4s\n",
      "[Parallel(n_jobs=-1)]: Done  17 out of  25 | elapsed:    0.7s remaining:    0.3s\n"
     ]
    },
    {
     "name": "stdout",
     "output_type": "stream",
     "text": [
      "Accuracy: 0.842 (0.042)\n"
     ]
    },
    {
     "name": "stderr",
     "output_type": "stream",
     "text": [
      "[Parallel(n_jobs=-1)]: Done  25 out of  25 | elapsed:    0.9s finished\n"
     ]
    }
   ],
   "source": [
    "#Repeated stratified k fold\n",
    "from sklearn.model_selection import RepeatedStratifiedKFold\n",
    "\n",
    "nskf = RepeatedStratifiedKFold(n_splits=5, n_repeats=5, random_state=1)\n",
    "rm = RandomForestClassifier(n_estimators=30, max_depth=6, max_leaf_nodes=10, min_samples_split=6,min_samples_leaf=3,max_features='auto', bootstrap=True, n_jobs=-1)\n",
    "\n",
    "scores = cross_val_score(rm, normalized_INPUT, Y, scoring='f1_macro', verbose=4,cv=nskf, n_jobs=-1)\n",
    "scores\n",
    "# report performance\n",
    "print('Accuracy: %.3f (%.3f)' % (mean(scores), std(scores)))"
   ]
  },
  {
   "cell_type": "code",
   "execution_count": null,
   "metadata": {},
   "outputs": [],
   "source": []
  }
 ],
 "metadata": {
  "kernelspec": {
   "display_name": "Python 3 (ipykernel)",
   "language": "python",
   "name": "python3"
  },
  "language_info": {
   "codemirror_mode": {
    "name": "ipython",
    "version": 3
   },
   "file_extension": ".py",
   "mimetype": "text/x-python",
   "name": "python",
   "nbconvert_exporter": "python",
   "pygments_lexer": "ipython3",
   "version": "3.12.7"
  }
 },
 "nbformat": 4,
 "nbformat_minor": 4
}
