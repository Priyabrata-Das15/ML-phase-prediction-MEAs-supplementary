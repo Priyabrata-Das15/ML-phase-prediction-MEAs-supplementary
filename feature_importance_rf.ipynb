{
 "cells": [
  {
   "cell_type": "code",
   "execution_count": 1,
   "metadata": {},
   "outputs": [
    {
     "data": {
      "text/html": [
       "<div>\n",
       "<style scoped>\n",
       "    .dataframe tbody tr th:only-of-type {\n",
       "        vertical-align: middle;\n",
       "    }\n",
       "\n",
       "    .dataframe tbody tr th {\n",
       "        vertical-align: top;\n",
       "    }\n",
       "\n",
       "    .dataframe thead th {\n",
       "        text-align: right;\n",
       "    }\n",
       "</style>\n",
       "<table border=\"1\" class=\"dataframe\">\n",
       "  <thead>\n",
       "    <tr style=\"text-align: right;\">\n",
       "      <th></th>\n",
       "      <th>Ω</th>\n",
       "      <th>Atomic size mismatch</th>\n",
       "      <th>Λ</th>\n",
       "    </tr>\n",
       "  </thead>\n",
       "  <tbody>\n",
       "    <tr>\n",
       "      <th>0</th>\n",
       "      <td>-0.631404</td>\n",
       "      <td>0.027946</td>\n",
       "      <td>-0.209450</td>\n",
       "    </tr>\n",
       "    <tr>\n",
       "      <th>1</th>\n",
       "      <td>-0.618275</td>\n",
       "      <td>-0.029515</td>\n",
       "      <td>-0.206598</td>\n",
       "    </tr>\n",
       "    <tr>\n",
       "      <th>2</th>\n",
       "      <td>-0.584828</td>\n",
       "      <td>-0.102026</td>\n",
       "      <td>-0.203809</td>\n",
       "    </tr>\n",
       "    <tr>\n",
       "      <th>3</th>\n",
       "      <td>-0.549350</td>\n",
       "      <td>-0.195605</td>\n",
       "      <td>-0.201020</td>\n",
       "    </tr>\n",
       "    <tr>\n",
       "      <th>4</th>\n",
       "      <td>-0.508245</td>\n",
       "      <td>-0.314359</td>\n",
       "      <td>-0.197724</td>\n",
       "    </tr>\n",
       "    <tr>\n",
       "      <th>...</th>\n",
       "      <td>...</td>\n",
       "      <td>...</td>\n",
       "      <td>...</td>\n",
       "    </tr>\n",
       "    <tr>\n",
       "      <th>241</th>\n",
       "      <td>-0.336948</td>\n",
       "      <td>-0.190571</td>\n",
       "      <td>-0.189724</td>\n",
       "    </tr>\n",
       "    <tr>\n",
       "      <th>242</th>\n",
       "      <td>-0.333822</td>\n",
       "      <td>-0.138336</td>\n",
       "      <td>-0.193755</td>\n",
       "    </tr>\n",
       "    <tr>\n",
       "      <th>243</th>\n",
       "      <td>-0.332368</td>\n",
       "      <td>-0.089138</td>\n",
       "      <td>-0.197356</td>\n",
       "    </tr>\n",
       "    <tr>\n",
       "      <th>244</th>\n",
       "      <td>-0.440570</td>\n",
       "      <td>-0.993250</td>\n",
       "      <td>0.104887</td>\n",
       "    </tr>\n",
       "    <tr>\n",
       "      <th>245</th>\n",
       "      <td>-0.579046</td>\n",
       "      <td>-0.084240</td>\n",
       "      <td>-0.042159</td>\n",
       "    </tr>\n",
       "  </tbody>\n",
       "</table>\n",
       "<p>246 rows × 3 columns</p>\n",
       "</div>"
      ],
      "text/plain": [
       "            Ω  Atomic size mismatch         Λ\n",
       "0   -0.631404              0.027946 -0.209450\n",
       "1   -0.618275             -0.029515 -0.206598\n",
       "2   -0.584828             -0.102026 -0.203809\n",
       "3   -0.549350             -0.195605 -0.201020\n",
       "4   -0.508245             -0.314359 -0.197724\n",
       "..        ...                   ...       ...\n",
       "241 -0.336948             -0.190571 -0.189724\n",
       "242 -0.333822             -0.138336 -0.193755\n",
       "243 -0.332368             -0.089138 -0.197356\n",
       "244 -0.440570             -0.993250  0.104887\n",
       "245 -0.579046             -0.084240 -0.042159\n",
       "\n",
       "[246 rows x 3 columns]"
      ]
     },
     "execution_count": 1,
     "metadata": {},
     "output_type": "execute_result"
    }
   ],
   "source": [
    "import numpy as np\n",
    "import pandas as pd\n",
    "import matplotlib.pyplot as plt\n",
    "\n",
    "MEAO = pd.read_excel('G:\\Priyabrata\\ML\\Material data repository.xlsx')\n",
    "INPUT=MEAO.iloc[:,2:11]  #all INPUT (Variables)\n",
    "TARGET=MEAO.iloc[:,20]   #all PHASES SS,SS+IM,AM\n",
    "#TARGET = MEAO.iloc[:,19]\n",
    "\n",
    "Y=MEAO.iloc[:,22] #coded phases. 0:SS, 1:SS+IM, 2:AM\n",
    "#Y = MEAO.iloc[:,23] #coded phases. 0:MSS, 1:SSS, 2:SS+IM, 3:AM\n",
    "\n",
    "#drop mixing enthalpy\n",
    "selected_INPUT1 = INPUT.drop(['Mixing entropy','Mixing enthalpy','γ','VEC','Pauling electronegativity','Molar volume dispersity'],axis=1)\n",
    "selected_INPUT1\n",
    "\n",
    "normalized_INPUT1=(selected_INPUT1-selected_INPUT1.mean())/selected_INPUT1.std()\n",
    "normalized_INPUT1"
   ]
  },
  {
   "cell_type": "code",
   "execution_count": 2,
   "metadata": {},
   "outputs": [
    {
     "name": "stderr",
     "output_type": "stream",
     "text": [
      "[Parallel(n_jobs=-1)]: Using backend LokyBackend with 8 concurrent workers.\n",
      "[Parallel(n_jobs=-1)]: Done   9 tasks      | elapsed:    2.9s\n",
      "[Parallel(n_jobs=-1)]: Done  48 out of  50 | elapsed:    4.1s remaining:    0.1s\n",
      "[Parallel(n_jobs=-1)]: Done  50 out of  50 | elapsed:    4.2s finished\n"
     ]
    },
    {
     "name": "stdout",
     "output_type": "stream",
     "text": [
      "f1_macro: 0.777 (0.071)\n",
      "\n",
      "Maximum f1 score:  0.9171717171717172\n",
      "\n",
      "Minimum f1 score:  0.5899159663865546\n"
     ]
    },
    {
     "data": {
      "image/png": "[encoded data removed]",
      "text/plain": [
       "<Figure size 432x288 with 1 Axes>"
      ]
     },
     "metadata": {
      "needs_background": "light"
     },
     "output_type": "display_data"
    }
   ],
   "source": [
    "from sklearn.model_selection import RepeatedStratifiedKFold\n",
    "from sklearn.ensemble import RandomForestClassifier\n",
    "from sklearn.model_selection import cross_val_score\n",
    "from numpy import mean\n",
    "from numpy import std\n",
    "import matplotlib.pyplot as plt\n",
    "\n",
    "rfc = RandomForestClassifier(n_estimators=30, max_depth=6, max_leaf_nodes=10, min_samples_split=6,max_features='auto', bootstrap=True, n_jobs=-1)\n",
    "nskf = RepeatedStratifiedKFold(n_splits=5, n_repeats=10, random_state=1)\n",
    "scores = cross_val_score(rfc, normalized_INPUT1, Y, scoring='f1_macro', verbose=4,cv=nskf, n_jobs=-1)\n",
    "scores\n",
    "# report performance\n",
    "print('f1_macro: %.3f (%.3f)' % (mean(scores), std(scores)))\n",
    "print('\\nMaximum f1 score: ', max(scores))\n",
    "print('\\nMinimum f1 score: ', min(scores))\n",
    "\n",
    "from sklearn.model_selection import learning_curve\n",
    "train_sizes, train_scores, valid_scores = learning_curve(rfc, normalized_INPUT1, Y, train_sizes=[10, 30, 50, 70,90, 110,130,150,170,188], cv=nskf,scoring='f1_macro')\n",
    "train_no=[10, 30, 50, 70,90, 110,130,150,170,188]\n",
    "\n",
    "A=np.mean(train_scores, axis = 1)\n",
    "B=np.mean(valid_scores, axis = 1)\n",
    "\n",
    "plt.plot(train_no, A,label = \"Training Score\", color = 'b')\n",
    "plt.plot(train_no, B,label = \"Cross Validation Score\", color = 'g')\n",
    "plt.title(\"learning curve of RF\")\n",
    "plt.xlabel(\"Number of training example\")\n",
    "plt.ylabel(\"Accuracy\")\n",
    "plt.tight_layout()\n",
    "plt.legend(loc = 'best')\n",
    "plt.show()\n"
   ]
  },
  {
   "cell_type": "code",
   "execution_count": 3,
   "metadata": {},
   "outputs": [
    {
     "name": "stderr",
     "output_type": "stream",
     "text": [
      "[Parallel(n_jobs=-1)]: Using backend LokyBackend with 8 concurrent workers.\n",
      "[Parallel(n_jobs=-1)]: Done   9 tasks      | elapsed:    0.4s\n",
      "[Parallel(n_jobs=-1)]: Done  48 out of  50 | elapsed:    1.6s remaining:    0.0s\n",
      "[Parallel(n_jobs=-1)]: Done  50 out of  50 | elapsed:    1.7s finished\n"
     ]
    },
    {
     "name": "stdout",
     "output_type": "stream",
     "text": [
      "f1_macro: 0.822 (0.054)\n",
      "\n",
      "Maximum f1 score:  0.9253034547152194\n",
      "\n",
      "Minimum f1 score:  0.6886904761904762\n"
     ]
    },
    {
     "data": {
      "image/png": "[encoded data removed]",
      "text/plain": [
       "<Figure size 432x288 with 1 Axes>"
      ]
     },
     "metadata": {
      "needs_background": "light"
     },
     "output_type": "display_data"
    }
   ],
   "source": [
    "#drop Atomic size mismatch\n",
    "selected_INPUT2 = INPUT.drop(['Mixing entropy','Atomic size mismatch','γ','VEC','Pauling electronegativity','Molar volume dispersity'],axis=1)\n",
    "selected_INPUT2\n",
    "\n",
    "normalized_INPUT2=(selected_INPUT2-selected_INPUT2.mean())/selected_INPUT2.std()\n",
    "normalized_INPUT2\n",
    "\n",
    "from sklearn.model_selection import RepeatedStratifiedKFold\n",
    "from sklearn.ensemble import RandomForestClassifier\n",
    "from sklearn.model_selection import cross_val_score\n",
    "from numpy import mean\n",
    "from numpy import std\n",
    "import matplotlib.pyplot as plt\n",
    "\n",
    "rfc = RandomForestClassifier(n_estimators=30, max_depth=6, max_leaf_nodes=10, min_samples_split=6,max_features='auto', bootstrap=True, n_jobs=-1)\n",
    "nskf = RepeatedStratifiedKFold(n_splits=5, n_repeats=10, random_state=1)\n",
    "scores = cross_val_score(rfc, normalized_INPUT2, Y, scoring='f1_macro', verbose=4,cv=nskf, n_jobs=-1)\n",
    "scores\n",
    "# report performance\n",
    "print('f1_macro: %.3f (%.3f)' % (mean(scores), std(scores)))\n",
    "print('\\nMaximum f1 score: ', max(scores))\n",
    "print('\\nMinimum f1 score: ', min(scores))\n",
    "\n",
    "from sklearn.model_selection import learning_curve\n",
    "train_sizes, train_scores, valid_scores = learning_curve(rfc, normalized_INPUT2, Y, train_sizes=[10, 30, 50, 70,90, 110,130,150,170,188], cv=nskf,scoring='f1_macro')\n",
    "train_no=[10, 30, 50, 70,90, 110,130,150,170,188]\n",
    "\n",
    "A=np.mean(train_scores, axis = 1)\n",
    "B=np.mean(valid_scores, axis = 1)\n",
    "\n",
    "plt.plot(train_no, A,label = \"Training Score\", color = 'b')\n",
    "plt.plot(train_no, B,label = \"Cross Validation Score\", color = 'g')\n",
    "plt.title(\"learning curve of RF\")\n",
    "plt.xlabel(\"Number of training example\")\n",
    "plt.ylabel(\"Accuracy\")\n",
    "plt.tight_layout()\n",
    "plt.legend(loc = 'best')\n",
    "plt.show()\n"
   ]
  },
  {
   "cell_type": "code",
   "execution_count": 4,
   "metadata": {},
   "outputs": [
    {
     "name": "stderr",
     "output_type": "stream",
     "text": [
      "[Parallel(n_jobs=-1)]: Using backend LokyBackend with 8 concurrent workers.\n",
      "[Parallel(n_jobs=-1)]: Done   9 tasks      | elapsed:    0.4s\n",
      "[Parallel(n_jobs=-1)]: Done  48 out of  50 | elapsed:    1.6s remaining:    0.0s\n",
      "[Parallel(n_jobs=-1)]: Done  50 out of  50 | elapsed:    1.7s finished\n"
     ]
    },
    {
     "name": "stdout",
     "output_type": "stream",
     "text": [
      "f1_macro: 0.824 (0.044)\n",
      "\n",
      "Maximum f1 score:  0.9253034547152194\n",
      "\n",
      "Minimum f1 score:  0.7358918128654971\n"
     ]
    },
    {
     "data": {
      "image/png": "[encoded data removed]",
      "text/plain": [
       "<Figure size 432x288 with 1 Axes>"
      ]
     },
     "metadata": {
      "needs_background": "light"
     },
     "output_type": "display_data"
    }
   ],
   "source": [
    "#drop Λ\n",
    "selected_INPUT3 = INPUT.drop(['Mixing entropy','Λ','γ','VEC','Pauling electronegativity','Molar volume dispersity'],axis=1)\n",
    "selected_INPUT3\n",
    "\n",
    "normalized_INPUT3=(selected_INPUT3-selected_INPUT3.mean())/selected_INPUT3.std()\n",
    "normalized_INPUT3\n",
    "\n",
    "from sklearn.model_selection import RepeatedStratifiedKFold\n",
    "from sklearn.ensemble import RandomForestClassifier\n",
    "from sklearn.model_selection import cross_val_score\n",
    "from numpy import mean\n",
    "from numpy import std\n",
    "import matplotlib.pyplot as plt\n",
    "\n",
    "rfc = RandomForestClassifier(n_estimators=30, max_depth=6, max_leaf_nodes=10, min_samples_split=6,max_features='auto', bootstrap=True, n_jobs=-1)\n",
    "nskf = RepeatedStratifiedKFold(n_splits=5, n_repeats=10, random_state=1)\n",
    "scores = cross_val_score(rfc, normalized_INPUT3, Y, scoring='f1_macro', verbose=4,cv=nskf, n_jobs=-1)\n",
    "scores\n",
    "# report performance\n",
    "print('f1_macro: %.3f (%.3f)' % (mean(scores), std(scores)))\n",
    "print('\\nMaximum f1 score: ', max(scores))\n",
    "print('\\nMinimum f1 score: ', min(scores))\n",
    "\n",
    "from sklearn.model_selection import learning_curve\n",
    "train_sizes, train_scores, valid_scores = learning_curve(rfc, normalized_INPUT3, Y, train_sizes=[10, 30, 50, 70,90, 110,130,150,170,188], cv=nskf,scoring='f1_macro')\n",
    "train_no=[10, 30, 50, 70,90, 110,130,150,170,188]\n",
    "\n",
    "A=np.mean(train_scores, axis = 1)\n",
    "B=np.mean(valid_scores, axis = 1)\n",
    "\n",
    "plt.plot(train_no, A,label = \"Training Score\", color = 'b')\n",
    "plt.plot(train_no, B,label = \"Cross Validation Score\", color = 'g')\n",
    "plt.title(\"learning curve of RF\")\n",
    "plt.xlabel(\"Number of training example\")\n",
    "plt.ylabel(\"Accuracy\")\n",
    "plt.tight_layout()\n",
    "plt.legend(loc = 'best')\n",
    "plt.show()\n"
   ]
  },
  {
   "cell_type": "code",
   "execution_count": 5,
   "metadata": {},
   "outputs": [
    {
     "name": "stderr",
     "output_type": "stream",
     "text": [
      "[Parallel(n_jobs=-1)]: Using backend LokyBackend with 8 concurrent workers.\n",
      "[Parallel(n_jobs=-1)]: Done   9 tasks      | elapsed:    0.5s\n",
      "[Parallel(n_jobs=-1)]: Done  48 out of  50 | elapsed:    1.6s remaining:    0.0s\n",
      "[Parallel(n_jobs=-1)]: Done  50 out of  50 | elapsed:    1.8s finished\n"
     ]
    },
    {
     "name": "stdout",
     "output_type": "stream",
     "text": [
      "f1_macro: 0.803 (0.056)\n",
      "\n",
      "Maximum f1 score:  0.9111111111111111\n",
      "\n",
      "Minimum f1 score:  0.6402606659199673\n"
     ]
    },
    {
     "data": {
      "image/png": "[encoded data removed]",
      "text/plain": [
       "<Figure size 432x288 with 1 Axes>"
      ]
     },
     "metadata": {
      "needs_background": "light"
     },
     "output_type": "display_data"
    }
   ],
   "source": [
    "#drop Ω\n",
    "selected_INPUT4 = INPUT.drop(['Mixing entropy','Ω','γ','VEC','Pauling electronegativity','Molar volume dispersity'],axis=1)\n",
    "selected_INPUT4\n",
    "\n",
    "normalized_INPUT4=(selected_INPUT4-selected_INPUT4.mean())/selected_INPUT4.std()\n",
    "normalized_INPUT4\n",
    "\n",
    "from sklearn.model_selection import RepeatedStratifiedKFold\n",
    "from sklearn.ensemble import RandomForestClassifier\n",
    "from sklearn.model_selection import cross_val_score\n",
    "from numpy import mean\n",
    "from numpy import std\n",
    "import matplotlib.pyplot as plt\n",
    "\n",
    "rfc = RandomForestClassifier(n_estimators=30, max_depth=6, max_leaf_nodes=10, min_samples_split=6,max_features='auto', bootstrap=True, n_jobs=-1)\n",
    "nskf = RepeatedStratifiedKFold(n_splits=5, n_repeats=10, random_state=1)\n",
    "scores = cross_val_score(rfc, normalized_INPUT4, Y, scoring='f1_macro', verbose=4,cv=nskf, n_jobs=-1)\n",
    "scores\n",
    "# report performance\n",
    "print('f1_macro: %.3f (%.3f)' % (mean(scores), std(scores)))\n",
    "print('\\nMaximum f1 score: ', max(scores))\n",
    "print('\\nMinimum f1 score: ', min(scores))\n",
    "\n",
    "from sklearn.model_selection import learning_curve\n",
    "train_sizes, train_scores, valid_scores = learning_curve(rfc, normalized_INPUT4, Y, train_sizes=[10, 30, 50, 70,90, 110,130,150,170,188], cv=nskf,scoring='f1_macro')\n",
    "train_no=[10, 30, 50, 70,90, 110,130,150,170,188]\n",
    "\n",
    "A=np.mean(train_scores, axis = 1)\n",
    "B=np.mean(valid_scores, axis = 1)\n",
    "\n",
    "plt.plot(train_no, A,label = \"Training Score\", color = 'b')\n",
    "plt.plot(train_no, B,label = \"Cross Validation Score\", color = 'g')\n",
    "plt.title(\"learning curve of RF\")\n",
    "plt.xlabel(\"Number of training example\")\n",
    "plt.ylabel(\"Accuracy\")\n",
    "plt.tight_layout()\n",
    "plt.legend(loc = 'best')\n",
    "plt.show()\n"
   ]
  },
  {
   "cell_type": "code",
   "execution_count": 6,
   "metadata": {},
   "outputs": [
    {
     "name": "stderr",
     "output_type": "stream",
     "text": [
      "[Parallel(n_jobs=-1)]: Using backend LokyBackend with 8 concurrent workers.\n",
      "[Parallel(n_jobs=-1)]: Done   9 tasks      | elapsed:    0.4s\n",
      "[Parallel(n_jobs=-1)]: Done  48 out of  50 | elapsed:    1.6s remaining:    0.0s\n",
      "[Parallel(n_jobs=-1)]: Done  50 out of  50 | elapsed:    1.7s finished\n"
     ]
    },
    {
     "name": "stdout",
     "output_type": "stream",
     "text": [
      "f1_macro: 0.811 (0.058)\n",
      "\n",
      "Maximum f1 score:  0.9585858585858587\n",
      "\n",
      "Minimum f1 score:  0.6648086213303604\n"
     ]
    },
    {
     "data": {
      "image/png": "[encoded data removed]",
      "text/plain": [
       "<Figure size 432x288 with 1 Axes>"
      ]
     },
     "metadata": {
      "needs_background": "light"
     },
     "output_type": "display_data"
    }
   ],
   "source": [
    "#drop atomic size mismatch and mixing enthalpy\n",
    "selected_INPUT5 = INPUT.drop(['Mixing entropy','Mixing enthalpy','Atomic size mismatch','γ','VEC','Pauling electronegativity','Molar volume dispersity'],axis=1)\n",
    "selected_INPUT5\n",
    "\n",
    "normalized_INPUT5=(selected_INPUT5-selected_INPUT5.mean())/selected_INPUT5.std()\n",
    "normalized_INPUT5\n",
    "\n",
    "from sklearn.model_selection import RepeatedStratifiedKFold\n",
    "from sklearn.ensemble import RandomForestClassifier\n",
    "from sklearn.model_selection import cross_val_score\n",
    "from numpy import mean\n",
    "from numpy import std\n",
    "import matplotlib.pyplot as plt\n",
    "\n",
    "rfc = RandomForestClassifier(n_estimators=30, max_depth=6, max_leaf_nodes=10, min_samples_split=6,max_features='auto', bootstrap=True, n_jobs=-1)\n",
    "nskf = RepeatedStratifiedKFold(n_splits=5, n_repeats=10, random_state=1)\n",
    "scores = cross_val_score(rfc, normalized_INPUT5, Y, scoring='f1_macro', verbose=4,cv=nskf, n_jobs=-1)\n",
    "scores\n",
    "# report performance\n",
    "print('f1_macro: %.3f (%.3f)' % (mean(scores), std(scores)))\n",
    "print('\\nMaximum f1 score: ', max(scores))\n",
    "print('\\nMinimum f1 score: ', min(scores))\n",
    "\n",
    "from sklearn.model_selection import learning_curve\n",
    "train_sizes, train_scores, valid_scores = learning_curve(rfc, normalized_INPUT5, Y, train_sizes=[10, 30, 50, 70,90, 110,130,150,170,188], cv=nskf,scoring='f1_macro')\n",
    "train_no=[10, 30, 50, 70,90, 110,130,150,170,188]\n",
    "\n",
    "A=np.mean(train_scores, axis = 1)\n",
    "B=np.mean(valid_scores, axis = 1)\n",
    "\n",
    "plt.plot(train_no, A,label = \"Training Score\", color = 'b')\n",
    "plt.plot(train_no, B,label = \"Cross Validation Score\", color = 'g')\n",
    "plt.title(\"learning curve of RF\")\n",
    "plt.xlabel(\"Number of training example\")\n",
    "plt.ylabel(\"Accuracy\")\n",
    "plt.tight_layout()\n",
    "plt.legend(loc = 'best')\n",
    "plt.show()"
   ]
  },
  {
   "cell_type": "code",
   "execution_count": 12,
   "metadata": {},
   "outputs": [
    {
     "name": "stderr",
     "output_type": "stream",
     "text": [
      "[Parallel(n_jobs=-1)]: Using backend LokyBackend with 8 concurrent workers.\n",
      "[Parallel(n_jobs=-1)]: Done   9 tasks      | elapsed:    0.5s\n"
     ]
    },
    {
     "name": "stdout",
     "output_type": "stream",
     "text": [
      "f1_macro: 0.755 (0.063)\n",
      "\n",
      "Maximum f1 score:  0.867741935483871\n",
      "\n",
      "Minimum f1 score:  0.607238708687984\n"
     ]
    },
    {
     "name": "stderr",
     "output_type": "stream",
     "text": [
      "[Parallel(n_jobs=-1)]: Done  48 out of  50 | elapsed:    1.6s remaining:    0.0s\n",
      "[Parallel(n_jobs=-1)]: Done  50 out of  50 | elapsed:    1.7s finished\n"
     ]
    }
   ],
   "source": [
    "\n",
    "#drop Ω and mixing enthalpy\n",
    "selected_INPUT6 = INPUT.drop(['Mixing entropy','Mixing enthalpy','Ω','γ','VEC','Pauling electronegativity','Molar volume dispersity'],axis=1)\n",
    "selected_INPUT6\n",
    "\n",
    "normalized_INPUT6=(selected_INPUT6-selected_INPUT6.mean())/selected_INPUT6.std()\n",
    "normalized_INPUT6\n",
    "\n",
    "from sklearn.model_selection import RepeatedStratifiedKFold\n",
    "from sklearn.ensemble import RandomForestClassifier\n",
    "from sklearn.model_selection import cross_val_score\n",
    "from numpy import mean\n",
    "from numpy import std\n",
    "import matplotlib.pyplot as plt\n",
    "\n",
    "rfc = RandomForestClassifier(n_estimators=30, max_depth=6, max_leaf_nodes=10, min_samples_split=6,max_features='auto', bootstrap=True, n_jobs=-1)\n",
    "nskf = RepeatedStratifiedKFold(n_splits=5, n_repeats=10, random_state=1)\n",
    "scores = cross_val_score(rfc, normalized_INPUT6, Y, scoring='f1_macro', verbose=4,cv=nskf, n_jobs=-1)\n",
    "scores\n",
    "# report performance\n",
    "print('f1_macro: %.3f (%.3f)' % (mean(scores), std(scores)))\n",
    "print('\\nMaximum f1 score: ', max(scores))\n",
    "print('\\nMinimum f1 score: ', min(scores))\n"
   ]
  },
  {
   "cell_type": "code",
   "execution_count": 11,
   "metadata": {},
   "outputs": [
    {
     "name": "stderr",
     "output_type": "stream",
     "text": [
      "[Parallel(n_jobs=-1)]: Using backend LokyBackend with 8 concurrent workers.\n",
      "[Parallel(n_jobs=-1)]: Done   9 tasks      | elapsed:    0.5s\n"
     ]
    },
    {
     "name": "stdout",
     "output_type": "stream",
     "text": [
      "f1_macro: 0.807 (0.055)\n",
      "\n",
      "Maximum f1 score:  0.8982964658021867\n",
      "\n",
      "Minimum f1 score:  0.6958333333333333\n"
     ]
    },
    {
     "name": "stderr",
     "output_type": "stream",
     "text": [
      "[Parallel(n_jobs=-1)]: Done  48 out of  50 | elapsed:    1.6s remaining:    0.0s\n",
      "[Parallel(n_jobs=-1)]: Done  50 out of  50 | elapsed:    1.7s finished\n"
     ]
    }
   ],
   "source": [
    "#drop Λ and mixing enthalpy\n",
    "selected_INPUT7 = INPUT.drop(['Mixing entropy','Mixing enthalpy','Λ','γ','VEC','Pauling electronegativity','Molar volume dispersity'],axis=1)\n",
    "selected_INPUT7\n",
    "\n",
    "normalized_INPUT7=(selected_INPUT7-selected_INPUT7.mean())/selected_INPUT7.std()\n",
    "normalized_INPUT7\n",
    "\n",
    "from sklearn.model_selection import RepeatedStratifiedKFold\n",
    "from sklearn.ensemble import RandomForestClassifier\n",
    "from sklearn.model_selection import cross_val_score\n",
    "from numpy import mean\n",
    "from numpy import std\n",
    "import matplotlib.pyplot as plt\n",
    "\n",
    "rfc = RandomForestClassifier(n_estimators=30, max_depth=6, max_leaf_nodes=10, min_samples_split=6,max_features='auto', bootstrap=True, n_jobs=-1)\n",
    "nskf = RepeatedStratifiedKFold(n_splits=5, n_repeats=10, random_state=1)\n",
    "scores = cross_val_score(rfc, normalized_INPUT7, Y, scoring='f1_macro', verbose=4,cv=nskf, n_jobs=-1)\n",
    "scores\n",
    "# report performance\n",
    "print('f1_macro: %.3f (%.3f)' % (mean(scores), std(scores)))\n",
    "print('\\nMaximum f1 score: ', max(scores))\n",
    "print('\\nMinimum f1 score: ', min(scores))\n"
   ]
  },
  {
   "cell_type": "code",
   "execution_count": 19,
   "metadata": {},
   "outputs": [
    {
     "name": "stderr",
     "output_type": "stream",
     "text": [
      "[Parallel(n_jobs=-1)]: Using backend LokyBackend with 8 concurrent workers.\n",
      "[Parallel(n_jobs=-1)]: Done   9 tasks      | elapsed:    0.4s\n"
     ]
    },
    {
     "name": "stdout",
     "output_type": "stream",
     "text": [
      "f1_macro: 0.826 (0.048)\n",
      "\n",
      "Maximum f1 score:  0.9309749784296808\n",
      "\n",
      "Minimum f1 score:  0.7339181286549707\n"
     ]
    },
    {
     "name": "stderr",
     "output_type": "stream",
     "text": [
      "[Parallel(n_jobs=-1)]: Done  48 out of  50 | elapsed:    1.6s remaining:    0.0s\n",
      "[Parallel(n_jobs=-1)]: Done  50 out of  50 | elapsed:    1.7s finished\n"
     ]
    }
   ],
   "source": [
    "#drop Λ and Ω\n",
    "selected_INPUT8 = INPUT.drop(['Mixing entropy','Ω','Λ','γ','VEC','Pauling electronegativity','Molar volume dispersity'],axis=1)\n",
    "selected_INPUT8\n",
    "\n",
    "normalized_INPUT8=(selected_INPUT8-selected_INPUT8.mean())/selected_INPUT8.std()\n",
    "normalized_INPUT8\n",
    "\n",
    "from sklearn.model_selection import RepeatedStratifiedKFold\n",
    "from sklearn.ensemble import RandomForestClassifier\n",
    "from sklearn.model_selection import cross_val_score\n",
    "from numpy import mean\n",
    "from numpy import std\n",
    "import matplotlib.pyplot as plt\n",
    "\n",
    "rfc = RandomForestClassifier(n_estimators=30, max_depth=6, max_leaf_nodes=10, min_samples_split=6,max_features='auto', bootstrap=True, n_jobs=-1)\n",
    "nskf = RepeatedStratifiedKFold(n_splits=5, n_repeats=10, random_state=1)\n",
    "scores = cross_val_score(rfc, normalized_INPUT8, Y, scoring='f1_macro', verbose=4,cv=nskf, n_jobs=-1)\n",
    "scores\n",
    "# report performance\n",
    "print('f1_macro: %.3f (%.3f)' % (mean(scores), std(scores)))\n",
    "print('\\nMaximum f1 score: ', max(scores))\n",
    "print('\\nMinimum f1 score: ', min(scores))"
   ]
  },
  {
   "cell_type": "code",
   "execution_count": 23,
   "metadata": {},
   "outputs": [
    {
     "name": "stderr",
     "output_type": "stream",
     "text": [
      "[Parallel(n_jobs=-1)]: Using backend LokyBackend with 8 concurrent workers.\n",
      "[Parallel(n_jobs=-1)]: Done   9 tasks      | elapsed:    0.4s\n"
     ]
    },
    {
     "name": "stdout",
     "output_type": "stream",
     "text": [
      "f1_macro: 0.842 (0.045)\n",
      "\n",
      "Maximum f1 score:  0.9314954051796157\n",
      "\n",
      "Minimum f1 score:  0.7610513739545998\n"
     ]
    },
    {
     "name": "stderr",
     "output_type": "stream",
     "text": [
      "[Parallel(n_jobs=-1)]: Done  48 out of  50 | elapsed:    1.6s remaining:    0.0s\n",
      "[Parallel(n_jobs=-1)]: Done  50 out of  50 | elapsed:    1.7s finished\n"
     ]
    }
   ],
   "source": [
    "#drop atomic size mismatch and Ω\n",
    "selected_INPUT8 = INPUT.drop(['Mixing entropy','Ω','Atomic size mismatch','γ','VEC','Pauling electronegativity','Molar volume dispersity'],axis=1)\n",
    "selected_INPUT8\n",
    "\n",
    "normalized_INPUT8=(selected_INPUT8-selected_INPUT8.mean())/selected_INPUT8.std()\n",
    "normalized_INPUT8\n",
    "\n",
    "from sklearn.model_selection import RepeatedStratifiedKFold\n",
    "from sklearn.ensemble import RandomForestClassifier\n",
    "from sklearn.model_selection import cross_val_score\n",
    "from numpy import mean\n",
    "from numpy import std\n",
    "import matplotlib.pyplot as plt\n",
    "\n",
    "rfc = RandomForestClassifier(n_estimators=30, max_depth=6, max_leaf_nodes=10, min_samples_split=6,max_features='auto', bootstrap=True, n_jobs=-1)\n",
    "nskf = RepeatedStratifiedKFold(n_splits=5, n_repeats=10, random_state=1)\n",
    "scores = cross_val_score(rfc, normalized_INPUT8, Y, scoring='f1_macro', verbose=4,cv=nskf, n_jobs=-1)\n",
    "scores\n",
    "# report performance\n",
    "print('f1_macro: %.3f (%.3f)' % (mean(scores), std(scores)))\n",
    "print('\\nMaximum f1 score: ', max(scores))\n",
    "print('\\nMinimum f1 score: ', min(scores))"
   ]
  },
  {
   "cell_type": "code",
   "execution_count": 24,
   "metadata": {},
   "outputs": [
    {
     "name": "stderr",
     "output_type": "stream",
     "text": [
      "[Parallel(n_jobs=-1)]: Using backend LokyBackend with 8 concurrent workers.\n",
      "[Parallel(n_jobs=-1)]: Done   9 tasks      | elapsed:    0.4s\n"
     ]
    },
    {
     "name": "stdout",
     "output_type": "stream",
     "text": [
      "f1_macro: 0.706 (0.061)\n",
      "\n",
      "Maximum f1 score:  0.8441590086326928\n",
      "\n",
      "Minimum f1 score:  0.5616413916146299\n"
     ]
    },
    {
     "name": "stderr",
     "output_type": "stream",
     "text": [
      "[Parallel(n_jobs=-1)]: Done  48 out of  50 | elapsed:    1.6s remaining:    0.0s\n",
      "[Parallel(n_jobs=-1)]: Done  50 out of  50 | elapsed:    1.7s finished\n"
     ]
    }
   ],
   "source": [
    "#drop atomic size mismatch and Λ\n",
    "selected_INPUT8 = INPUT.drop(['Mixing entropy','Λ','Atomic size mismatch','γ','VEC','Pauling electronegativity','Molar volume dispersity'],axis=1)\n",
    "selected_INPUT8\n",
    "\n",
    "normalized_INPUT8=(selected_INPUT8-selected_INPUT8.mean())/selected_INPUT8.std()\n",
    "normalized_INPUT8\n",
    "\n",
    "from sklearn.model_selection import RepeatedStratifiedKFold\n",
    "from sklearn.ensemble import RandomForestClassifier\n",
    "from sklearn.model_selection import cross_val_score\n",
    "from numpy import mean\n",
    "from numpy import std\n",
    "import matplotlib.pyplot as plt\n",
    "\n",
    "rfc = RandomForestClassifier(n_estimators=30, max_depth=6, max_leaf_nodes=10, min_samples_split=6,max_features='auto', bootstrap=True, n_jobs=-1)\n",
    "nskf = RepeatedStratifiedKFold(n_splits=5, n_repeats=10, random_state=1)\n",
    "scores = cross_val_score(rfc, normalized_INPUT8, Y, scoring='f1_macro', verbose=4,cv=nskf, n_jobs=-1)\n",
    "scores\n",
    "# report performance\n",
    "print('f1_macro: %.3f (%.3f)' % (mean(scores), std(scores)))\n",
    "print('\\nMaximum f1 score: ', max(scores))\n",
    "print('\\nMinimum f1 score: ', min(scores))"
   ]
  },
  {
   "cell_type": "code",
   "execution_count": 25,
   "metadata": {},
   "outputs": [
    {
     "name": "stderr",
     "output_type": "stream",
     "text": [
      "[Parallel(n_jobs=-1)]: Using backend LokyBackend with 8 concurrent workers.\n",
      "[Parallel(n_jobs=-1)]: Done   9 tasks      | elapsed:    0.5s\n"
     ]
    },
    {
     "name": "stdout",
     "output_type": "stream",
     "text": [
      "f1_macro: 0.697 (0.063)\n",
      "\n",
      "Maximum f1 score:  0.8359477124183007\n",
      "\n",
      "Minimum f1 score:  0.5616413916146299\n"
     ]
    },
    {
     "name": "stderr",
     "output_type": "stream",
     "text": [
      "[Parallel(n_jobs=-1)]: Done  48 out of  50 | elapsed:    1.6s remaining:    0.0s\n",
      "[Parallel(n_jobs=-1)]: Done  50 out of  50 | elapsed:    1.7s finished\n"
     ]
    }
   ],
   "source": [
    "#Keep mixing enthalpy\n",
    "selected_INPUT8 = INPUT.drop(['Mixing entropy','Λ','Ω','Atomic size mismatch','γ','VEC','Pauling electronegativity','Molar volume dispersity'],axis=1)\n",
    "selected_INPUT8\n",
    "\n",
    "normalized_INPUT8=(selected_INPUT8-selected_INPUT8.mean())/selected_INPUT8.std()\n",
    "normalized_INPUT8\n",
    "\n",
    "from sklearn.model_selection import RepeatedStratifiedKFold\n",
    "from sklearn.ensemble import RandomForestClassifier\n",
    "from sklearn.model_selection import cross_val_score\n",
    "from numpy import mean\n",
    "from numpy import std\n",
    "import matplotlib.pyplot as plt\n",
    "\n",
    "rfc = RandomForestClassifier(n_estimators=30, max_depth=6, max_leaf_nodes=10, min_samples_split=6,max_features='auto', bootstrap=True, n_jobs=-1)\n",
    "scores = cross_val_score(rfc, normalized_INPUT8, Y, scoring='f1_macro', verbose=4,cv=nskf, n_jobs=-1)\n",
    "scores\n",
    "# report performance\n",
    "print('f1_macro: %.3f (%.3f)' % (mean(scores), std(scores)))\n",
    "print('\\nMaximum f1 score: ', max(scores))\n",
    "print('\\nMinimum f1 score: ', min(scores))"
   ]
  },
  {
   "cell_type": "code",
   "execution_count": 26,
   "metadata": {},
   "outputs": [
    {
     "name": "stderr",
     "output_type": "stream",
     "text": [
      "[Parallel(n_jobs=-1)]: Using backend LokyBackend with 8 concurrent workers.\n",
      "[Parallel(n_jobs=-1)]: Done   9 tasks      | elapsed:    0.5s\n"
     ]
    },
    {
     "name": "stdout",
     "output_type": "stream",
     "text": [
      "f1_macro: 0.755 (0.068)\n",
      "\n",
      "Maximum f1 score:  0.8506375227686703\n",
      "\n",
      "Minimum f1 score:  0.5845679012345678\n"
     ]
    },
    {
     "name": "stderr",
     "output_type": "stream",
     "text": [
      "[Parallel(n_jobs=-1)]: Done  48 out of  50 | elapsed:    1.6s remaining:    0.0s\n",
      "[Parallel(n_jobs=-1)]: Done  50 out of  50 | elapsed:    1.7s finished\n"
     ]
    }
   ],
   "source": [
    "#Keep Atomic size mismatch\n",
    "selected_INPUT8 = INPUT.drop(['Mixing entropy','Λ','Ω','Mixing enthalpy','γ','VEC','Pauling electronegativity','Molar volume dispersity'],axis=1)\n",
    "selected_INPUT8\n",
    "\n",
    "normalized_INPUT8=(selected_INPUT8-selected_INPUT8.mean())/selected_INPUT8.std()\n",
    "normalized_INPUT8\n",
    "\n",
    "from sklearn.model_selection import RepeatedStratifiedKFold\n",
    "from sklearn.ensemble import RandomForestClassifier\n",
    "from sklearn.model_selection import cross_val_score\n",
    "from numpy import mean\n",
    "from numpy import std\n",
    "import matplotlib.pyplot as plt\n",
    "\n",
    "rfc = RandomForestClassifier(n_estimators=30, max_depth=6, max_leaf_nodes=10, min_samples_split=6,max_features='auto', bootstrap=True, n_jobs=-1)\n",
    "nskf = RepeatedStratifiedKFold(n_splits=5, n_repeats=10, random_state=1)\n",
    "scores = cross_val_score(rfc, normalized_INPUT8, Y, scoring='f1_macro', verbose=4,cv=nskf, n_jobs=-1)\n",
    "scores\n",
    "# report performance\n",
    "print('f1_macro: %.3f (%.3f)' % (mean(scores), std(scores)))\n",
    "print('\\nMaximum f1 score: ', max(scores))\n",
    "print('\\nMinimum f1 score: ', min(scores))"
   ]
  },
  {
   "cell_type": "code",
   "execution_count": 27,
   "metadata": {},
   "outputs": [
    {
     "name": "stderr",
     "output_type": "stream",
     "text": [
      "[Parallel(n_jobs=-1)]: Using backend LokyBackend with 8 concurrent workers.\n",
      "[Parallel(n_jobs=-1)]: Done   9 tasks      | elapsed:    0.4s\n"
     ]
    },
    {
     "name": "stdout",
     "output_type": "stream",
     "text": [
      "f1_macro: 0.768 (0.057)\n",
      "\n",
      "Maximum f1 score:  0.875505757858699\n",
      "\n",
      "Minimum f1 score:  0.660483870967742\n"
     ]
    },
    {
     "name": "stderr",
     "output_type": "stream",
     "text": [
      "[Parallel(n_jobs=-1)]: Done  48 out of  50 | elapsed:    1.6s remaining:    0.0s\n",
      "[Parallel(n_jobs=-1)]: Done  50 out of  50 | elapsed:    1.7s finished\n"
     ]
    }
   ],
   "source": [
    "#Keep Λ\n",
    "selected_INPUT8 = INPUT.drop(['Mixing entropy','Atomic size mismatch','Ω','Mixing enthalpy','γ','VEC','Pauling electronegativity','Molar volume dispersity'],axis=1)\n",
    "selected_INPUT8\n",
    "\n",
    "normalized_INPUT8=(selected_INPUT8-selected_INPUT8.mean())/selected_INPUT8.std()\n",
    "normalized_INPUT8\n",
    "\n",
    "from sklearn.model_selection import RepeatedStratifiedKFold\n",
    "from sklearn.ensemble import RandomForestClassifier\n",
    "from sklearn.model_selection import cross_val_score\n",
    "from numpy import mean\n",
    "from numpy import std\n",
    "import matplotlib.pyplot as plt\n",
    "\n",
    "rfc = RandomForestClassifier(n_estimators=30, max_depth=6, max_leaf_nodes=10, min_samples_split=6,max_features='auto', bootstrap=True, n_jobs=-1)\n",
    "nskf = RepeatedStratifiedKFold(n_splits=5, n_repeats=10, random_state=1)\n",
    "scores = cross_val_score(rfc, normalized_INPUT8, Y, scoring='f1_macro', verbose=4,cv=nskf, n_jobs=-1)\n",
    "scores\n",
    "# report performance\n",
    "print('f1_macro: %.3f (%.3f)' % (mean(scores), std(scores)))\n",
    "print('\\nMaximum f1 score: ', max(scores))\n",
    "print('\\nMinimum f1 score: ', min(scores))"
   ]
  },
  {
   "cell_type": "code",
   "execution_count": 28,
   "metadata": {},
   "outputs": [
    {
     "name": "stderr",
     "output_type": "stream",
     "text": [
      "[Parallel(n_jobs=-1)]: Using backend LokyBackend with 8 concurrent workers.\n",
      "[Parallel(n_jobs=-1)]: Done   9 tasks      | elapsed:    0.4s\n"
     ]
    },
    {
     "name": "stdout",
     "output_type": "stream",
     "text": [
      "f1_macro: 0.672 (0.058)\n",
      "\n",
      "Maximum f1 score:  0.7992530345471521\n",
      "\n",
      "Minimum f1 score:  0.5296296296296297\n"
     ]
    },
    {
     "name": "stderr",
     "output_type": "stream",
     "text": [
      "[Parallel(n_jobs=-1)]: Done  48 out of  50 | elapsed:    1.6s remaining:    0.0s\n",
      "[Parallel(n_jobs=-1)]: Done  50 out of  50 | elapsed:    1.7s finished\n"
     ]
    }
   ],
   "source": [
    "#Keep omega\n",
    "selected_INPUT8 = INPUT.drop(['Mixing entropy','Atomic size mismatch','Λ','Mixing enthalpy','γ','VEC','Pauling electronegativity','Molar volume dispersity'],axis=1)\n",
    "selected_INPUT8\n",
    "\n",
    "normalized_INPUT8=(selected_INPUT8-selected_INPUT8.mean())/selected_INPUT8.std()\n",
    "normalized_INPUT8\n",
    "\n",
    "from sklearn.model_selection import RepeatedStratifiedKFold\n",
    "from sklearn.ensemble import RandomForestClassifier\n",
    "from sklearn.model_selection import cross_val_score\n",
    "from numpy import mean\n",
    "from numpy import std\n",
    "import matplotlib.pyplot as plt\n",
    "\n",
    "rfc = RandomForestClassifier(n_estimators=30, max_depth=6, max_leaf_nodes=10, min_samples_split=6,max_features='auto', bootstrap=True, n_jobs=-1)\n",
    "nskf = RepeatedStratifiedKFold(n_splits=5, n_repeats=10, random_state=1)\n",
    "scores = cross_val_score(rfc, normalized_INPUT8, Y, scoring='f1_macro', verbose=4,cv=nskf, n_jobs=-1)\n",
    "scores\n",
    "# report performance\n",
    "print('f1_macro: %.3f (%.3f)' % (mean(scores), std(scores)))\n",
    "print('\\nMaximum f1 score: ', max(scores))\n",
    "print('\\nMinimum f1 score: ', min(scores))"
   ]
  },
  {
   "cell_type": "code",
   "execution_count": 30,
   "metadata": {},
   "outputs": [
    {
     "name": "stderr",
     "output_type": "stream",
     "text": [
      "[Parallel(n_jobs=-1)]: Using backend LokyBackend with 8 concurrent workers.\n",
      "[Parallel(n_jobs=-1)]: Done   9 tasks      | elapsed:    0.4s\n"
     ]
    },
    {
     "name": "stdout",
     "output_type": "stream",
     "text": [
      "f1_macro: 0.846 (0.048)\n",
      "\n",
      "Maximum f1 score:  0.9559139784946237\n",
      "\n",
      "Minimum f1 score:  0.7098870056497176\n"
     ]
    },
    {
     "name": "stderr",
     "output_type": "stream",
     "text": [
      "[Parallel(n_jobs=-1)]: Done  48 out of  50 | elapsed:    1.6s remaining:    0.0s\n",
      "[Parallel(n_jobs=-1)]: Done  50 out of  50 | elapsed:    1.7s finished\n"
     ]
    }
   ],
   "source": [
    "#Keep 4 parameters\n",
    "selected_INPUT8 = INPUT.drop(['Mixing entropy','γ','VEC','Pauling electronegativity','Molar volume dispersity'],axis=1)\n",
    "selected_INPUT8\n",
    "\n",
    "normalized_INPUT8=(selected_INPUT8-selected_INPUT8.mean())/selected_INPUT8.std()\n",
    "normalized_INPUT8\n",
    "\n",
    "from sklearn.model_selection import RepeatedStratifiedKFold\n",
    "from sklearn.ensemble import RandomForestClassifier\n",
    "from sklearn.model_selection import cross_val_score\n",
    "from numpy import mean\n",
    "from numpy import std\n",
    "import matplotlib.pyplot as plt\n",
    "\n",
    "rfc = RandomForestClassifier(n_estimators=30, max_depth=6, max_leaf_nodes=10, min_samples_split=6,max_features='auto', bootstrap=True, n_jobs=-1)\n",
    "nskf = RepeatedStratifiedKFold(n_splits=5, n_repeats=10, random_state=1)\n",
    "scores = cross_val_score(rfc, normalized_INPUT8, Y, scoring='f1_macro', verbose=4,cv=nskf, n_jobs=-1)\n",
    "scores\n",
    "# report performance\n",
    "print('f1_macro: %.3f (%.3f)' % (mean(scores), std(scores)))\n",
    "print('\\nMaximum f1 score: ', max(scores))\n",
    "print('\\nMinimum f1 score: ', min(scores))"
   ]
  },
  {
   "cell_type": "code",
   "execution_count": null,
   "metadata": {},
   "outputs": [],
   "source": []
  }
 ],
 "metadata": {
  "kernelspec": {
   "display_name": "Python 3 (ipykernel)",
   "language": "python",
   "name": "python3"
  },
  "language_info": {
   "codemirror_mode": {
    "name": "ipython",
    "version": 3
   },
   "file_extension": ".py",
   "mimetype": "text/x-python",
   "name": "python",
   "nbconvert_exporter": "python",
   "pygments_lexer": "ipython3",
   "version": "3.12.7"
  }
 },
 "nbformat": 4,
 "nbformat_minor": 4
}
